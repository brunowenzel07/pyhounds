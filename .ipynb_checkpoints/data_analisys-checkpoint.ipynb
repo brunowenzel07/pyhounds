{
 "cells": [
  {
   "cell_type": "code",
   "execution_count": 1,
   "metadata": {},
   "outputs": [],
   "source": [
    "import pandas as pd\n",
    "import numpy as np\n",
    "import seaborn as sns \n",
    "import matplotlib.pyplot as plt"
   ]
  },
  {
   "cell_type": "code",
   "execution_count": 2,
   "metadata": {},
   "outputs": [],
   "source": [
    "names = [\n",
    "    \"d1_bends_mean\",\n",
    "    \"d1_bends_std\",\n",
    "    \"d1_split_mean\",\n",
    "    \"d1_split_std\",\n",
    "    \"d1_posit_mean\",\n",
    "    \"d1_posit_std\",\n",
    "    \"d2_bends_mean\",\n",
    "    \"d2_bends_std\",\n",
    "    \"d2_split_mean\",\n",
    "    \"d2_split_std\",\n",
    "    \"d2_posit_mean\",\n",
    "    \"d2_posit_std\",\n",
    "    \"class\"\n",
    "]\n",
    "races = pd.read_csv(\"data/data_train.csv\", names=names)"
   ]
  },
  {
   "cell_type": "code",
   "execution_count": 3,
   "metadata": {
    "scrolled": true
   },
   "outputs": [
    {
     "data": {
      "text/html": [
       "<div>\n",
       "<style scoped>\n",
       "    .dataframe tbody tr th:only-of-type {\n",
       "        vertical-align: middle;\n",
       "    }\n",
       "\n",
       "    .dataframe tbody tr th {\n",
       "        vertical-align: top;\n",
       "    }\n",
       "\n",
       "    .dataframe thead th {\n",
       "        text-align: right;\n",
       "    }\n",
       "</style>\n",
       "<table border=\"1\" class=\"dataframe\">\n",
       "  <thead>\n",
       "    <tr style=\"text-align: right;\">\n",
       "      <th></th>\n",
       "      <th>d1_bends_mean</th>\n",
       "      <th>d1_bends_std</th>\n",
       "      <th>d1_split_mean</th>\n",
       "      <th>d1_split_std</th>\n",
       "      <th>d1_posit_mean</th>\n",
       "      <th>d1_posit_std</th>\n",
       "      <th>d2_bends_mean</th>\n",
       "      <th>d2_bends_std</th>\n",
       "      <th>d2_split_mean</th>\n",
       "      <th>d2_split_std</th>\n",
       "      <th>d2_posit_mean</th>\n",
       "      <th>d2_posit_std</th>\n",
       "      <th>class</th>\n",
       "    </tr>\n",
       "  </thead>\n",
       "  <tbody>\n",
       "    <tr>\n",
       "      <th>0</th>\n",
       "      <td>1.6</td>\n",
       "      <td>1.517</td>\n",
       "      <td>5.284</td>\n",
       "      <td>0.063</td>\n",
       "      <td>0.707</td>\n",
       "      <td>3.0</td>\n",
       "      <td>-1.4</td>\n",
       "      <td>1.673</td>\n",
       "      <td>4.836</td>\n",
       "      <td>0.845</td>\n",
       "      <td>0.837</td>\n",
       "      <td>3.8</td>\n",
       "      <td>0</td>\n",
       "    </tr>\n",
       "    <tr>\n",
       "      <th>1</th>\n",
       "      <td>2.0</td>\n",
       "      <td>1.581</td>\n",
       "      <td>5.186</td>\n",
       "      <td>0.036</td>\n",
       "      <td>1.517</td>\n",
       "      <td>2.6</td>\n",
       "      <td>0.4</td>\n",
       "      <td>1.949</td>\n",
       "      <td>5.194</td>\n",
       "      <td>0.052</td>\n",
       "      <td>1.789</td>\n",
       "      <td>3.8</td>\n",
       "      <td>1</td>\n",
       "    </tr>\n",
       "    <tr>\n",
       "      <th>2</th>\n",
       "      <td>-0.4</td>\n",
       "      <td>2.302</td>\n",
       "      <td>5.068</td>\n",
       "      <td>0.030</td>\n",
       "      <td>1.924</td>\n",
       "      <td>3.8</td>\n",
       "      <td>-0.6</td>\n",
       "      <td>2.608</td>\n",
       "      <td>5.106</td>\n",
       "      <td>0.110</td>\n",
       "      <td>2.302</td>\n",
       "      <td>3.6</td>\n",
       "      <td>0</td>\n",
       "    </tr>\n",
       "    <tr>\n",
       "      <th>3</th>\n",
       "      <td>0.0</td>\n",
       "      <td>1.225</td>\n",
       "      <td>5.068</td>\n",
       "      <td>0.065</td>\n",
       "      <td>1.924</td>\n",
       "      <td>2.8</td>\n",
       "      <td>-0.2</td>\n",
       "      <td>1.789</td>\n",
       "      <td>5.178</td>\n",
       "      <td>0.034</td>\n",
       "      <td>1.643</td>\n",
       "      <td>3.2</td>\n",
       "      <td>1</td>\n",
       "    </tr>\n",
       "    <tr>\n",
       "      <th>4</th>\n",
       "      <td>-1.6</td>\n",
       "      <td>1.140</td>\n",
       "      <td>5.046</td>\n",
       "      <td>0.065</td>\n",
       "      <td>1.871</td>\n",
       "      <td>4.0</td>\n",
       "      <td>-0.4</td>\n",
       "      <td>1.140</td>\n",
       "      <td>2.860</td>\n",
       "      <td>2.100</td>\n",
       "      <td>1.643</td>\n",
       "      <td>2.2</td>\n",
       "      <td>0</td>\n",
       "    </tr>\n",
       "  </tbody>\n",
       "</table>\n",
       "</div>"
      ],
      "text/plain": [
       "   d1_bends_mean  d1_bends_std  d1_split_mean  d1_split_std  d1_posit_mean  \\\n",
       "0            1.6         1.517          5.284         0.063          0.707   \n",
       "1            2.0         1.581          5.186         0.036          1.517   \n",
       "2           -0.4         2.302          5.068         0.030          1.924   \n",
       "3            0.0         1.225          5.068         0.065          1.924   \n",
       "4           -1.6         1.140          5.046         0.065          1.871   \n",
       "\n",
       "   d1_posit_std  d2_bends_mean  d2_bends_std  d2_split_mean  d2_split_std  \\\n",
       "0           3.0           -1.4         1.673          4.836         0.845   \n",
       "1           2.6            0.4         1.949          5.194         0.052   \n",
       "2           3.8           -0.6         2.608          5.106         0.110   \n",
       "3           2.8           -0.2         1.789          5.178         0.034   \n",
       "4           4.0           -0.4         1.140          2.860         2.100   \n",
       "\n",
       "   d2_posit_mean  d2_posit_std  class  \n",
       "0          0.837           3.8      0  \n",
       "1          1.789           3.8      1  \n",
       "2          2.302           3.6      0  \n",
       "3          1.643           3.2      1  \n",
       "4          1.643           2.2      0  "
      ]
     },
     "execution_count": 3,
     "metadata": {},
     "output_type": "execute_result"
    }
   ],
   "source": [
    "races.head()"
   ]
  },
  {
   "cell_type": "code",
   "execution_count": 82,
   "metadata": {},
   "outputs": [
    {
     "data": {
      "text/plain": [
       "count    204.000000\n",
       "mean       3.146162\n",
       "std        0.846969\n",
       "min        1.000000\n",
       "25%        2.600000\n",
       "50%        3.000000\n",
       "75%        3.800000\n",
       "max        5.800000\n",
       "Name: d1_posit_std, dtype: float64"
      ]
     },
     "execution_count": 82,
     "metadata": {},
     "output_type": "execute_result"
    }
   ],
   "source": [
    "races[\"d1_posit_std\"].describe()"
   ]
  },
  {
   "cell_type": "code",
   "execution_count": 11,
   "metadata": {},
   "outputs": [],
   "source": [
    "races.dropna(inplace=True)"
   ]
  },
  {
   "cell_type": "code",
   "execution_count": 110,
   "metadata": {},
   "outputs": [],
   "source": [
    "from sklearn.decomposition import PCA\n",
    "from sklearn.preprocessing import StandardScaler"
   ]
  },
  {
   "cell_type": "code",
   "execution_count": 129,
   "metadata": {},
   "outputs": [],
   "source": [
    "pca = PCA(n_components=4)\n",
    "scaler = StandardScaler()"
   ]
  },
  {
   "cell_type": "code",
   "execution_count": 130,
   "metadata": {},
   "outputs": [],
   "source": [
    "x_pca = pca.fit_transform(scaler.fit_transform(races.drop([\n",
    "    \"d1_posit_mean\", \n",
    "    \"d1_bends_mean\", \n",
    "    \"d1_split_mean\", \n",
    "    \"d2_posit_mean\", \n",
    "    \"d2_bends_mean\", \n",
    "    \"d2_split_mean\"], axis=1)))"
   ]
  },
  {
   "cell_type": "code",
   "execution_count": 131,
   "metadata": {},
   "outputs": [
    {
     "data": {
      "text/plain": [
       "(204, 4)"
      ]
     },
     "execution_count": 131,
     "metadata": {},
     "output_type": "execute_result"
    }
   ],
   "source": [
    "x_pca.shape"
   ]
  },
  {
   "cell_type": "code",
   "execution_count": 136,
   "metadata": {},
   "outputs": [
    {
     "data": {
      "text/plain": [
       "<matplotlib.collections.PathCollection at 0x7f9dbf31afd0>"
      ]
     },
     "execution_count": 136,
     "metadata": {},
     "output_type": "execute_result"
    },
    {
     "data": {
      "image/png": "[encoded data removed]",
      "text/plain": [
       "<Figure size 432x288 with 1 Axes>"
      ]
     },
     "metadata": {
      "needs_background": "light"
     },
     "output_type": "display_data"
    }
   ],
   "source": [
    "plt.scatter(x_pca[:,0], x_pca[:,2], c=races[\"class\"])"
   ]
  },
  {
   "cell_type": "code",
   "execution_count": 147,
   "metadata": {},
   "outputs": [],
   "source": [
    "x_data = np.column_stack((x_pca[:,0], x_pca[:,2]))"
   ]
  },
  {
   "cell_type": "code",
   "execution_count": 160,
   "metadata": {},
   "outputs": [],
   "source": [
    "from sklearn.model_selection import train_test_split"
   ]
  },
  {
   "cell_type": "code",
   "execution_count": 168,
   "metadata": {},
   "outputs": [],
   "source": [
    "X_train, X_test, y_train, y_test = train_test_split(x_data, races[\"class\"], test_size=0.50, random_state=42)"
   ]
  },
  {
   "cell_type": "code",
   "execution_count": 169,
   "metadata": {},
   "outputs": [],
   "source": [
    "from sklearn.neighbors import KNeighborsClassifier\n",
    "from sklearn.metrics import classification_report"
   ]
  },
  {
   "cell_type": "code",
   "execution_count": 170,
   "metadata": {},
   "outputs": [],
   "source": [
    "clf = KNeighborsClassifier(n_neighbors=2)"
   ]
  },
  {
   "cell_type": "code",
   "execution_count": 171,
   "metadata": {},
   "outputs": [
    {
     "data": {
      "text/plain": [
       "KNeighborsClassifier(algorithm='auto', leaf_size=30, metric='minkowski',\n",
       "           metric_params=None, n_jobs=1, n_neighbors=2, p=2,\n",
       "           weights='uniform')"
      ]
     },
     "execution_count": 171,
     "metadata": {},
     "output_type": "execute_result"
    }
   ],
   "source": [
    "clf.fit(X_train, y_train)"
   ]
  },
  {
   "cell_type": "code",
   "execution_count": 172,
   "metadata": {},
   "outputs": [],
   "source": [
    "y_pred = clf.predict(X_test)"
   ]
  },
  {
   "cell_type": "code",
   "execution_count": 173,
   "metadata": {},
   "outputs": [
    {
     "name": "stdout",
     "output_type": "stream",
     "text": [
      "             precision    recall  f1-score   support\n",
      "\n",
      "          0       1.00      0.96      0.98        48\n",
      "          1       0.96      1.00      0.98        54\n",
      "\n",
      "avg / total       0.98      0.98      0.98       102\n",
      "\n"
     ]
    }
   ],
   "source": [
    "print(classification_report(y_true=y_test, y_pred=y_pred))"
   ]
  },
  {
   "cell_type": "code",
   "execution_count": null,
   "metadata": {},
   "outputs": [],
   "source": []
  }
 ],
 "metadata": {
  "kernelspec": {
   "display_name": "Python 2",
   "language": "python",
   "name": "python2"
  },
  "language_info": {
   "codemirror_mode": {
    "name": "ipython",
    "version": 2
   },
   "file_extension": ".py",
   "mimetype": "text/x-python",
   "name": "python",
   "nbconvert_exporter": "python",
   "pygments_lexer": "ipython2",
   "version": "2.7.15"
  }
 },
 "nbformat": 4,
 "nbformat_minor": 2
}
