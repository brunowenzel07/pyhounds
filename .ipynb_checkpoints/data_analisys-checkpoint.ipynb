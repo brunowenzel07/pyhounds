{
 "cells": [
  {
   "cell_type": "code",
   "execution_count": 1,
   "metadata": {},
   "outputs": [],
   "source": [
    "import pandas as pd\n",
    "import numpy as np\n",
    "import seaborn as sns \n",
    "import matplotlib.pyplot as plt"
   ]
  },
  {
   "cell_type": "code",
   "execution_count": 23,
   "metadata": {},
   "outputs": [],
   "source": [
    "names = [\n",
    "    \"d1_track_starts\",\n",
    "    \"d1_track_wins\",\n",
    "    \"d1_track_losing\",\n",
    "    \"d1_track_rate\",\n",
    "    \"d1_cat_starts\",\n",
    "    \"d1_cat_wins\",\n",
    "    \"d1_cat_losing\",\n",
    "    \"d1_cat_rate\",\n",
    "    \"d1_track_speed\",\n",
    "    \"d1_cat_speed\",\n",
    "    \"d1_age\",\n",
    "    \"d1_last_run\",  \n",
    "    \"d2_track_starts\",\n",
    "    \"d2_track_wins\",\n",
    "    \"d2_track_losing\",\n",
    "    \"d2_track_rate\",\n",
    "    \"d2_cat_starts\",\n",
    "    \"d2_cat_wins\",\n",
    "    \"d2_cat_losing\",\n",
    "    \"d2_cat_rate\",\n",
    "    \"d2_track_speed\",\n",
    "    \"d2_cat_speed\",\n",
    "    \"d2_age\",\n",
    "    \"d2_last_run\",  \n",
    "    \"class\"\n",
    "]\n",
    "races = pd.read_csv(\"data/avb.csv\", names=names)"
   ]
  },
  {
   "cell_type": "code",
   "execution_count": 24,
   "metadata": {
    "scrolled": false
   },
   "outputs": [
    {
     "data": {
      "text/html": [
       "<div>\n",
       "<style scoped>\n",
       "    .dataframe tbody tr th:only-of-type {\n",
       "        vertical-align: middle;\n",
       "    }\n",
       "\n",
       "    .dataframe tbody tr th {\n",
       "        vertical-align: top;\n",
       "    }\n",
       "\n",
       "    .dataframe thead th {\n",
       "        text-align: right;\n",
       "    }\n",
       "</style>\n",
       "<table border=\"1\" class=\"dataframe\">\n",
       "  <thead>\n",
       "    <tr style=\"text-align: right;\">\n",
       "      <th></th>\n",
       "      <th>d1_track_starts</th>\n",
       "      <th>d1_track_wins</th>\n",
       "      <th>d1_track_losing</th>\n",
       "      <th>d1_track_rate</th>\n",
       "      <th>d1_cat_starts</th>\n",
       "      <th>d1_cat_wins</th>\n",
       "      <th>d1_cat_losing</th>\n",
       "      <th>d1_cat_rate</th>\n",
       "      <th>d1_track_speed</th>\n",
       "      <th>d1_cat_speed</th>\n",
       "      <th>...</th>\n",
       "      <th>d2_track_rate</th>\n",
       "      <th>d2_cat_starts</th>\n",
       "      <th>d2_cat_wins</th>\n",
       "      <th>d2_cat_losing</th>\n",
       "      <th>d2_cat_rate</th>\n",
       "      <th>d2_track_speed</th>\n",
       "      <th>d2_cat_speed</th>\n",
       "      <th>d2_age</th>\n",
       "      <th>d2_last_run</th>\n",
       "      <th>class</th>\n",
       "    </tr>\n",
       "  </thead>\n",
       "  <tbody>\n",
       "    <tr>\n",
       "      <th>0</th>\n",
       "      <td>38</td>\n",
       "      <td>6</td>\n",
       "      <td>10</td>\n",
       "      <td>0.158</td>\n",
       "      <td>11</td>\n",
       "      <td>1</td>\n",
       "      <td>5</td>\n",
       "      <td>0.091</td>\n",
       "      <td>15.882</td>\n",
       "      <td>16.009</td>\n",
       "      <td>...</td>\n",
       "      <td>0.154</td>\n",
       "      <td>31</td>\n",
       "      <td>6</td>\n",
       "      <td>7</td>\n",
       "      <td>0.194</td>\n",
       "      <td>16.167</td>\n",
       "      <td>16.079</td>\n",
       "      <td>130</td>\n",
       "      <td>7</td>\n",
       "      <td>0</td>\n",
       "    </tr>\n",
       "    <tr>\n",
       "      <th>1</th>\n",
       "      <td>16</td>\n",
       "      <td>5</td>\n",
       "      <td>8</td>\n",
       "      <td>0.313</td>\n",
       "      <td>1</td>\n",
       "      <td>0</td>\n",
       "      <td>1</td>\n",
       "      <td>0.000</td>\n",
       "      <td>15.846</td>\n",
       "      <td>15.973</td>\n",
       "      <td>...</td>\n",
       "      <td>0.234</td>\n",
       "      <td>12</td>\n",
       "      <td>2</td>\n",
       "      <td>9</td>\n",
       "      <td>0.167</td>\n",
       "      <td>16.029</td>\n",
       "      <td>16.037</td>\n",
       "      <td>123</td>\n",
       "      <td>7</td>\n",
       "      <td>1</td>\n",
       "    </tr>\n",
       "    <tr>\n",
       "      <th>2</th>\n",
       "      <td>29</td>\n",
       "      <td>3</td>\n",
       "      <td>11</td>\n",
       "      <td>0.103</td>\n",
       "      <td>3</td>\n",
       "      <td>1</td>\n",
       "      <td>2</td>\n",
       "      <td>0.333</td>\n",
       "      <td>16.113</td>\n",
       "      <td>16.169</td>\n",
       "      <td>...</td>\n",
       "      <td>0.254</td>\n",
       "      <td>24</td>\n",
       "      <td>5</td>\n",
       "      <td>7</td>\n",
       "      <td>0.208</td>\n",
       "      <td>15.944</td>\n",
       "      <td>16.061</td>\n",
       "      <td>96</td>\n",
       "      <td>9</td>\n",
       "      <td>0</td>\n",
       "    </tr>\n",
       "    <tr>\n",
       "      <th>3</th>\n",
       "      <td>34</td>\n",
       "      <td>7</td>\n",
       "      <td>11</td>\n",
       "      <td>0.206</td>\n",
       "      <td>3</td>\n",
       "      <td>0</td>\n",
       "      <td>1</td>\n",
       "      <td>0.000</td>\n",
       "      <td>15.952</td>\n",
       "      <td>15.957</td>\n",
       "      <td>...</td>\n",
       "      <td>0.146</td>\n",
       "      <td>29</td>\n",
       "      <td>3</td>\n",
       "      <td>16</td>\n",
       "      <td>0.103</td>\n",
       "      <td>16.084</td>\n",
       "      <td>16.112</td>\n",
       "      <td>76</td>\n",
       "      <td>9</td>\n",
       "      <td>1</td>\n",
       "    </tr>\n",
       "    <tr>\n",
       "      <th>4</th>\n",
       "      <td>52</td>\n",
       "      <td>15</td>\n",
       "      <td>11</td>\n",
       "      <td>0.288</td>\n",
       "      <td>26</td>\n",
       "      <td>7</td>\n",
       "      <td>7</td>\n",
       "      <td>0.269</td>\n",
       "      <td>16.121</td>\n",
       "      <td>16.166</td>\n",
       "      <td>...</td>\n",
       "      <td>0.318</td>\n",
       "      <td>6</td>\n",
       "      <td>0</td>\n",
       "      <td>1</td>\n",
       "      <td>0.000</td>\n",
       "      <td>16.064</td>\n",
       "      <td>16.102</td>\n",
       "      <td>66</td>\n",
       "      <td>5</td>\n",
       "      <td>0</td>\n",
       "    </tr>\n",
       "  </tbody>\n",
       "</table>\n",
       "<p>5 rows × 25 columns</p>\n",
       "</div>"
      ],
      "text/plain": [
       "   d1_track_starts  d1_track_wins  d1_track_losing  d1_track_rate  \\\n",
       "0               38              6               10          0.158   \n",
       "1               16              5                8          0.313   \n",
       "2               29              3               11          0.103   \n",
       "3               34              7               11          0.206   \n",
       "4               52             15               11          0.288   \n",
       "\n",
       "   d1_cat_starts  d1_cat_wins  d1_cat_losing  d1_cat_rate  d1_track_speed  \\\n",
       "0             11            1              5        0.091          15.882   \n",
       "1              1            0              1        0.000          15.846   \n",
       "2              3            1              2        0.333          16.113   \n",
       "3              3            0              1        0.000          15.952   \n",
       "4             26            7              7        0.269          16.121   \n",
       "\n",
       "   d1_cat_speed  ...    d2_track_rate  d2_cat_starts  d2_cat_wins  \\\n",
       "0        16.009  ...            0.154             31            6   \n",
       "1        15.973  ...            0.234             12            2   \n",
       "2        16.169  ...            0.254             24            5   \n",
       "3        15.957  ...            0.146             29            3   \n",
       "4        16.166  ...            0.318              6            0   \n",
       "\n",
       "   d2_cat_losing  d2_cat_rate  d2_track_speed  d2_cat_speed  d2_age  \\\n",
       "0              7        0.194          16.167        16.079     130   \n",
       "1              9        0.167          16.029        16.037     123   \n",
       "2              7        0.208          15.944        16.061      96   \n",
       "3             16        0.103          16.084        16.112      76   \n",
       "4              1        0.000          16.064        16.102      66   \n",
       "\n",
       "   d2_last_run  class  \n",
       "0            7      0  \n",
       "1            7      1  \n",
       "2            9      0  \n",
       "3            9      1  \n",
       "4            5      0  \n",
       "\n",
       "[5 rows x 25 columns]"
      ]
     },
     "execution_count": 24,
     "metadata": {},
     "output_type": "execute_result"
    }
   ],
   "source": [
    "races.head()"
   ]
  },
  {
   "cell_type": "code",
   "execution_count": 27,
   "metadata": {},
   "outputs": [
    {
     "data": {
      "text/plain": [
       "16.264075308641978"
      ]
     },
     "execution_count": 27,
     "metadata": {},
     "output_type": "execute_result"
    }
   ],
   "source": [
    "mean = (races[\"d1_track_speed\"] + races[\"d2_track_speed\"])/2\n",
    "mean = mean.mean()"
   ]
  },
  {
   "cell_type": "code",
   "execution_count": 21,
   "metadata": {},
   "outputs": [
    {
     "data": {
      "text/plain": [
       "<seaborn.axisgrid.FacetGrid at 0x7f107009e650>"
      ]
     },
     "execution_count": 21,
     "metadata": {},
     "output_type": "execute_result"
    },
    {
     "data": {
      "image/png": "[encoded data removed]",
      "text/plain": [
       "<Figure size 402.375x360 with 1 Axes>"
      ]
     },
     "metadata": {
      "needs_background": "light"
     },
     "output_type": "display_data"
    }
   ],
   "source": [
    "sns.lmplot(x=\"d1_losing\", y=\"d2_losing\", hue=\"class\", data=races)"
   ]
  },
  {
   "cell_type": "code",
   "execution_count": null,
   "metadata": {},
   "outputs": [],
   "source": []
  }
 ],
 "metadata": {
  "kernelspec": {
   "display_name": "Python 2",
   "language": "python",
   "name": "python2"
  },
  "language_info": {
   "codemirror_mode": {
    "name": "ipython",
    "version": 2
   },
   "file_extension": ".py",
   "mimetype": "text/x-python",
   "name": "python",
   "nbconvert_exporter": "python",
   "pygments_lexer": "ipython2",
   "version": "2.7.15"
  }
 },
 "nbformat": 4,
 "nbformat_minor": 2
}
