{
 "cells": [
  {
   "cell_type": "code",
   "execution_count": 2,
   "metadata": {},
   "outputs": [],
   "source": [
    "import pandas as pd \n",
    "import numpy as np \n",
    "import seaborn as sns\n",
    "import matplotlib.pyplot as plt"
   ]
  },
  {
   "cell_type": "code",
   "execution_count": 3,
   "metadata": {},
   "outputs": [],
   "source": [
    "from sklearn.model_selection import train_test_split\n",
    "from sklearn.preprocessing import StandardScaler\n",
    "from sklearn.metrics import classification_report"
   ]
  },
  {
   "cell_type": "code",
   "execution_count": 32,
   "metadata": {},
   "outputs": [],
   "source": [
    "from sklearn.model_selection import train_test_split"
   ]
  },
  {
   "cell_type": "code",
   "execution_count": null,
   "metadata": {},
   "outputs": [],
   "source": [
    "features = [\n",
    "    \"TY_U\", \"TY_O\",    \n",
    "    \"LY_U\", \"LY_O\",    \n",
    "    \"T3_TMIN\"  , \"T3_TMEAN\",\n",
    "    \"T3_BENDS\" , \"T3_FIN\",\n",
    "    \"T12_TMIN\" , \"T12_TMEAN\",\n",
    "    \"T12_BENDS\", \"T12_FIN\"\n",
    "]"
   ]
  },
  {
   "cell_type": "code",
   "execution_count": 24,
   "metadata": {},
   "outputs": [],
   "source": [
    "names = ['TRACK',\n",
    " 'DISTANCE',\n",
    " 'A_POS',\n",
    " 'B_POS',\n",
    " 'DA_TY_O',\n",
    " 'DA_TY_U',\n",
    " 'DA_LY_O',\n",
    " 'DA_LY_U',\n",
    " 'DA_T3_TMIN',\n",
    " 'DA_T3_TMEAN',\n",
    " 'DA_T3_BENDS',\n",
    " 'DA_T3_FIN',\n",
    " 'DA_T12_TMIN',\n",
    " 'DA_T12_TMEAN',\n",
    " 'DA_T12_BENDS',\n",
    " 'DA_T12_FIN',\n",
    " 'DB_TY_O',\n",
    " 'DB_TY_U',\n",
    " 'DB_LY_O',\n",
    " 'DB_LY_U',\n",
    " 'DB_T3_TMIN',\n",
    " 'DB_T3_TMEAN',\n",
    " 'DB_T3_BENDS',\n",
    " 'DB_T3_FIN',\n",
    " 'DB_T12_TMIN',\n",
    " 'DB_T12_TMEAN',\n",
    " 'DB_T12_BENDS',\n",
    " 'DB_T12_FIN',\n",
    " 'RESULT']"
   ]
  },
  {
   "cell_type": "code",
   "execution_count": 25,
   "metadata": {},
   "outputs": [],
   "source": [
    "df = pd.read_csv(\"data/dataset.csv\", names=names)\n",
    "df.dropna(inplace=True)\n",
    "df.drop_duplicates(keep = False, inplace = True)\n",
    "df = df[df[\"TRACK\"] == \"Sunderland\"]\n",
    "df = df[df[\"DISTANCE\"] == 450]"
   ]
  },
  {
   "cell_type": "code",
   "execution_count": 26,
   "metadata": {},
   "outputs": [
    {
     "data": {
      "text/html": [
       "<div>\n",
       "<style scoped>\n",
       "    .dataframe tbody tr th:only-of-type {\n",
       "        vertical-align: middle;\n",
       "    }\n",
       "\n",
       "    .dataframe tbody tr th {\n",
       "        vertical-align: top;\n",
       "    }\n",
       "\n",
       "    .dataframe thead th {\n",
       "        text-align: right;\n",
       "    }\n",
       "</style>\n",
       "<table border=\"1\" class=\"dataframe\">\n",
       "  <thead>\n",
       "    <tr style=\"text-align: right;\">\n",
       "      <th></th>\n",
       "      <th>TRACK</th>\n",
       "      <th>DISTANCE</th>\n",
       "      <th>A_POS</th>\n",
       "      <th>B_POS</th>\n",
       "      <th>DA_TY_O</th>\n",
       "      <th>DA_TY_U</th>\n",
       "      <th>DA_LY_O</th>\n",
       "      <th>DA_LY_U</th>\n",
       "      <th>DA_T3_TMIN</th>\n",
       "      <th>DA_T3_TMEAN</th>\n",
       "      <th>...</th>\n",
       "      <th>DB_LY_U</th>\n",
       "      <th>DB_T3_TMIN</th>\n",
       "      <th>DB_T3_TMEAN</th>\n",
       "      <th>DB_T3_BENDS</th>\n",
       "      <th>DB_T3_FIN</th>\n",
       "      <th>DB_T12_TMIN</th>\n",
       "      <th>DB_T12_TMEAN</th>\n",
       "      <th>DB_T12_BENDS</th>\n",
       "      <th>DB_T12_FIN</th>\n",
       "      <th>RESULT</th>\n",
       "    </tr>\n",
       "  </thead>\n",
       "  <tbody>\n",
       "    <tr>\n",
       "      <th>0</th>\n",
       "      <td>Sunderland</td>\n",
       "      <td>450</td>\n",
       "      <td>1</td>\n",
       "      <td>2</td>\n",
       "      <td>0.600</td>\n",
       "      <td>0.400</td>\n",
       "      <td>0.435</td>\n",
       "      <td>0.565</td>\n",
       "      <td>28.20</td>\n",
       "      <td>28.347</td>\n",
       "      <td>...</td>\n",
       "      <td>0.429</td>\n",
       "      <td>27.98</td>\n",
       "      <td>28.260</td>\n",
       "      <td>3.917</td>\n",
       "      <td>3.667</td>\n",
       "      <td>27.76</td>\n",
       "      <td>28.260</td>\n",
       "      <td>3.667</td>\n",
       "      <td>3.500</td>\n",
       "      <td>A</td>\n",
       "    </tr>\n",
       "    <tr>\n",
       "      <th>1</th>\n",
       "      <td>Sunderland</td>\n",
       "      <td>450</td>\n",
       "      <td>1</td>\n",
       "      <td>3</td>\n",
       "      <td>0.600</td>\n",
       "      <td>0.400</td>\n",
       "      <td>0.435</td>\n",
       "      <td>0.565</td>\n",
       "      <td>28.20</td>\n",
       "      <td>28.347</td>\n",
       "      <td>...</td>\n",
       "      <td>0.429</td>\n",
       "      <td>27.98</td>\n",
       "      <td>28.260</td>\n",
       "      <td>3.917</td>\n",
       "      <td>3.667</td>\n",
       "      <td>27.76</td>\n",
       "      <td>28.260</td>\n",
       "      <td>3.667</td>\n",
       "      <td>3.500</td>\n",
       "      <td>A</td>\n",
       "    </tr>\n",
       "    <tr>\n",
       "      <th>2</th>\n",
       "      <td>Sunderland</td>\n",
       "      <td>450</td>\n",
       "      <td>1</td>\n",
       "      <td>4</td>\n",
       "      <td>0.600</td>\n",
       "      <td>0.400</td>\n",
       "      <td>0.435</td>\n",
       "      <td>0.565</td>\n",
       "      <td>28.20</td>\n",
       "      <td>28.347</td>\n",
       "      <td>...</td>\n",
       "      <td>0.625</td>\n",
       "      <td>28.43</td>\n",
       "      <td>28.660</td>\n",
       "      <td>3.667</td>\n",
       "      <td>5.333</td>\n",
       "      <td>28.07</td>\n",
       "      <td>28.581</td>\n",
       "      <td>3.729</td>\n",
       "      <td>4.083</td>\n",
       "      <td>A</td>\n",
       "    </tr>\n",
       "    <tr>\n",
       "      <th>3</th>\n",
       "      <td>Sunderland</td>\n",
       "      <td>450</td>\n",
       "      <td>1</td>\n",
       "      <td>5</td>\n",
       "      <td>0.600</td>\n",
       "      <td>0.400</td>\n",
       "      <td>0.435</td>\n",
       "      <td>0.565</td>\n",
       "      <td>28.20</td>\n",
       "      <td>28.347</td>\n",
       "      <td>...</td>\n",
       "      <td>0.273</td>\n",
       "      <td>28.00</td>\n",
       "      <td>28.143</td>\n",
       "      <td>3.667</td>\n",
       "      <td>3.000</td>\n",
       "      <td>27.79</td>\n",
       "      <td>28.218</td>\n",
       "      <td>3.375</td>\n",
       "      <td>3.167</td>\n",
       "      <td>A</td>\n",
       "    </tr>\n",
       "    <tr>\n",
       "      <th>4</th>\n",
       "      <td>Sunderland</td>\n",
       "      <td>450</td>\n",
       "      <td>2</td>\n",
       "      <td>1</td>\n",
       "      <td>0.538</td>\n",
       "      <td>0.462</td>\n",
       "      <td>0.571</td>\n",
       "      <td>0.429</td>\n",
       "      <td>27.98</td>\n",
       "      <td>28.260</td>\n",
       "      <td>...</td>\n",
       "      <td>0.565</td>\n",
       "      <td>28.20</td>\n",
       "      <td>28.347</td>\n",
       "      <td>3.000</td>\n",
       "      <td>3.000</td>\n",
       "      <td>27.83</td>\n",
       "      <td>28.323</td>\n",
       "      <td>3.104</td>\n",
       "      <td>3.583</td>\n",
       "      <td>B</td>\n",
       "    </tr>\n",
       "  </tbody>\n",
       "</table>\n",
       "<p>5 rows × 29 columns</p>\n",
       "</div>"
      ],
      "text/plain": [
       "        TRACK  DISTANCE  A_POS  B_POS  DA_TY_O  DA_TY_U  DA_LY_O  DA_LY_U  \\\n",
       "0  Sunderland       450      1      2    0.600    0.400    0.435    0.565   \n",
       "1  Sunderland       450      1      3    0.600    0.400    0.435    0.565   \n",
       "2  Sunderland       450      1      4    0.600    0.400    0.435    0.565   \n",
       "3  Sunderland       450      1      5    0.600    0.400    0.435    0.565   \n",
       "4  Sunderland       450      2      1    0.538    0.462    0.571    0.429   \n",
       "\n",
       "   DA_T3_TMIN  DA_T3_TMEAN  ...  DB_LY_U  DB_T3_TMIN  DB_T3_TMEAN  \\\n",
       "0       28.20       28.347  ...    0.429       27.98       28.260   \n",
       "1       28.20       28.347  ...    0.429       27.98       28.260   \n",
       "2       28.20       28.347  ...    0.625       28.43       28.660   \n",
       "3       28.20       28.347  ...    0.273       28.00       28.143   \n",
       "4       27.98       28.260  ...    0.565       28.20       28.347   \n",
       "\n",
       "   DB_T3_BENDS  DB_T3_FIN  DB_T12_TMIN  DB_T12_TMEAN  DB_T12_BENDS  \\\n",
       "0        3.917      3.667        27.76        28.260         3.667   \n",
       "1        3.917      3.667        27.76        28.260         3.667   \n",
       "2        3.667      5.333        28.07        28.581         3.729   \n",
       "3        3.667      3.000        27.79        28.218         3.375   \n",
       "4        3.000      3.000        27.83        28.323         3.104   \n",
       "\n",
       "   DB_T12_FIN  RESULT  \n",
       "0       3.500       A  \n",
       "1       3.500       A  \n",
       "2       4.083       A  \n",
       "3       3.167       A  \n",
       "4       3.583       B  \n",
       "\n",
       "[5 rows x 29 columns]"
      ]
     },
     "execution_count": 26,
     "metadata": {},
     "output_type": "execute_result"
    }
   ],
   "source": [
    "df.head()"
   ]
  },
  {
   "cell_type": "code",
   "execution_count": 27,
   "metadata": {},
   "outputs": [],
   "source": [
    "features = [\n",
    "    \"TY_U\", \"TY_O\",    \n",
    "    \"LY_U\", \"LY_O\",    \n",
    "    \"T3_TMIN\"  , \"T3_TMEAN\",\n",
    "    \"T3_BENDS\" , \"T3_FIN\",\n",
    "    \"T12_TMIN\" , \"T12_TMEAN\",\n",
    "    \"T12_BENDS\", \"T12_FIN\"\n",
    "]"
   ]
  },
  {
   "cell_type": "code",
   "execution_count": 28,
   "metadata": {},
   "outputs": [],
   "source": [
    "def normalize(s):\n",
    "    if s[0] == 0 or s[0] == s[1]:\n",
    "        return 0.0\n",
    "    else:\n",
    "        return s[0] / (s[0] + s[1])"
   ]
  },
  {
   "cell_type": "code",
   "execution_count": 29,
   "metadata": {},
   "outputs": [],
   "source": [
    "X = pd.DataFrame(columns=features)\n",
    "for x_col in features:\n",
    "    X[x_col] = df[[\"DA_\"+x_col, \"DB_\"+x_col]].apply(normalize, axis=1)"
   ]
  },
  {
   "cell_type": "code",
   "execution_count": 55,
   "metadata": {},
   "outputs": [],
   "source": [
    "df[\"W\"] = df[[\"A_POS\", \"B_POS\"]].apply(weight, axis=1)"
   ]
  },
  {
   "cell_type": "code",
   "execution_count": 54,
   "metadata": {},
   "outputs": [],
   "source": [
    "def weight(data):\n",
    "    data = np.array(data)\n",
    "    return np.log(data[1]/data[0]) ** 2"
   ]
  },
  {
   "cell_type": "code",
   "execution_count": 58,
   "metadata": {},
   "outputs": [],
   "source": [
    "X_train, X_test, y_train, y_test = train_test_split(X, df[\"RESULT\"], test_size=0.33, random_state=42)"
   ]
  },
  {
   "cell_type": "code",
   "execution_count": 59,
   "metadata": {},
   "outputs": [],
   "source": [
    "from sklearn.ensemble import RandomForestClassifier\n",
    "from sklearn.ensemble import GradientBoostingClassifier\n",
    "from sklearn.svm import SVC\n",
    "from sklearn.neural_network import MLPClassifier\n",
    "from sklearn.neighbors import KNeighborsClassifier"
   ]
  },
  {
   "cell_type": "code",
   "execution_count": 60,
   "metadata": {},
   "outputs": [],
   "source": [
    "rfc = RandomForestClassifier(n_estimators=50, min_samples_leaf=100)\n",
    "gbc = GradientBoostingClassifier(n_estimators=50, min_samples_leaf=20)\n",
    "svc = SVC(C=100, gamma=1e-7)\n",
    "mlp = MLPClassifier(hidden_layer_sizes=(200,), max_iter=500)\n",
    "knn = KNeighborsClassifier(n_neighbors=20)"
   ]
  },
  {
   "cell_type": "code",
   "execution_count": 67,
   "metadata": {},
   "outputs": [
    {
     "data": {
      "text/plain": [
       "SVC(C=100, cache_size=200, class_weight=None, coef0=0.0,\n",
       "  decision_function_shape='ovr', degree=3, gamma=1e-07, kernel='rbf',\n",
       "  max_iter=-1, probability=False, random_state=None, shrinking=True,\n",
       "  tol=0.001, verbose=False)"
      ]
     },
     "execution_count": 67,
     "metadata": {},
     "output_type": "execute_result"
    }
   ],
   "source": [
    "rfc.fit(X_train, y_train, sample_weight=df[\"W\"][X_train.index])\n",
    "gbc.fit(X_train, y_train, sample_weight=df[\"W\"][X_train.index])\n",
    "#knn.fit(X_train, y_train, sample_weight=df[\"W\"][X_train.index])\n",
    "#mlp.fit(X_train, y_train, sample_weight=df[\"W\"][X_train.index])\n",
    "svc.fit(X_train, y_train, sample_weight=df[\"W\"][X_train.index])"
   ]
  },
  {
   "cell_type": "code",
   "execution_count": 69,
   "metadata": {},
   "outputs": [],
   "source": [
    "rfc_pred = rfc.predict(X_test)\n",
    "gbc_pred = gbc.predict(X_test)\n",
    "svc_pred = svc.predict(X_test)"
   ]
  },
  {
   "cell_type": "code",
   "execution_count": 74,
   "metadata": {},
   "outputs": [
    {
     "name": "stdout",
     "output_type": "stream",
     "text": [
      "              precision    recall  f1-score   support\n",
      "\n",
      "           A       0.57      0.66      0.61        38\n",
      "           B       0.69      0.60      0.64        48\n",
      "\n",
      "   micro avg       0.63      0.63      0.63        86\n",
      "   macro avg       0.63      0.63      0.63        86\n",
      "weighted avg       0.64      0.63      0.63        86\n",
      "\n"
     ]
    }
   ],
   "source": [
    "print(classification_report(y_test, gbc_pred))"
   ]
  },
  {
   "cell_type": "code",
   "execution_count": null,
   "metadata": {},
   "outputs": [],
   "source": []
  }
 ],
 "metadata": {
  "kernelspec": {
   "display_name": "Python 3",
   "language": "python",
   "name": "python3"
  },
  "language_info": {
   "codemirror_mode": {
    "name": "ipython",
    "version": 3
   },
   "file_extension": ".py",
   "mimetype": "text/x-python",
   "name": "python",
   "nbconvert_exporter": "python",
   "pygments_lexer": "ipython3",
   "version": "3.6.5"
  }
 },
 "nbformat": 4,
 "nbformat_minor": 2
}
