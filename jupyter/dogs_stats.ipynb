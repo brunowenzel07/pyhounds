{
 "cells": [
  {
   "cell_type": "code",
   "execution_count": 1,
   "metadata": {},
   "outputs": [],
   "source": [
    "from bs4 import BeautifulSoup\n",
    "import pandas as pd \n",
    "import numpy as np "
   ]
  },
  {
   "cell_type": "code",
   "execution_count": 2,
   "metadata": {},
   "outputs": [],
   "source": [
    "import re"
   ]
  },
  {
   "cell_type": "code",
   "execution_count": 3,
   "metadata": {},
   "outputs": [],
   "source": [
    "from datetime import datetime"
   ]
  },
  {
   "cell_type": "code",
   "execution_count": 4,
   "metadata": {},
   "outputs": [],
   "source": [
    "with open (\"../html/predict.html\", \"r\") as f_:\n",
    "    result_page = BeautifulSoup(f_, \"html.parser\")"
   ]
  },
  {
   "cell_type": "code",
   "execution_count": 14,
   "metadata": {},
   "outputs": [
    {
     "name": "stdout",
     "output_type": "stream",
     "text": [
      "{'link': 'https://greyhoundbet.racingpost.com/#card/race_id=1697052&r_date=2019-05-22&tab=card', 'track': 'Newcastle', 'time_label': '11:11', 'date': '2019-05-22'}\n"
     ]
    }
   ],
   "source": [
    "for future in result_page.find(\"ul\", class_=\"raceList\").find_all(\"li\"):\n",
    "    track, time_label, date = future.find(\"a\").attrs[\"data-eventlabel\"].replace(\" \", \"\").split(\",\")\n",
    "    result = {\n",
    "        \"link\":future.find(\"a\").attrs[\"href\"],\n",
    "        \"track\":track,\n",
    "        \"time_label\":time_label,\n",
    "        \"date\":date\n",
    "    }\n",
    "    print(result)\n",
    "    \n",
    "    break"
   ]
  },
  {
   "cell_type": "code",
   "execution_count": 21,
   "metadata": {},
   "outputs": [
    {
     "data": {
      "text/plain": [
       "'2019-05-22 11:11'"
      ]
     },
     "execution_count": 21,
     "metadata": {},
     "output_type": "execute_result"
    }
   ],
   "source": [
    "datetime.strftime(datetime.strptime(result[\"date\"] + \" \" + result[\"time_label\"], \"%Y-%m-%d %H:%M\"), \"%Y-%m-%d %H:%M\")"
   ]
  },
  {
   "cell_type": "code",
   "execution_count": null,
   "metadata": {},
   "outputs": [],
   "source": []
  }
 ],
 "metadata": {
  "kernelspec": {
   "display_name": "Python 3",
   "language": "python",
   "name": "python3"
  },
  "language_info": {
   "codemirror_mode": {
    "name": "ipython",
    "version": 3
   },
   "file_extension": ".py",
   "mimetype": "text/x-python",
   "name": "python",
   "nbconvert_exporter": "python",
   "pygments_lexer": "ipython3",
   "version": "3.6.7"
  }
 },
 "nbformat": 4,
 "nbformat_minor": 2
}
