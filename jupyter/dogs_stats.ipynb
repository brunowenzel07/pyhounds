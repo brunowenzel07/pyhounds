{
 "cells": [
  {
   "cell_type": "code",
   "execution_count": 1,
   "metadata": {},
   "outputs": [],
   "source": [
    "from bs4 import BeautifulSoup\n",
    "import pandas as pd \n",
    "import numpy as np "
   ]
  },
  {
   "cell_type": "code",
   "execution_count": 2,
   "metadata": {},
   "outputs": [],
   "source": [
    "import re"
   ]
  },
  {
   "cell_type": "code",
   "execution_count": 3,
   "metadata": {},
   "outputs": [],
   "source": [
    "from datetime import datetime"
   ]
  },
  {
   "cell_type": "code",
   "execution_count": 4,
   "metadata": {},
   "outputs": [],
   "source": [
    "race = ['Sunderland', datetime.strptime(\"04Apr19\", \"%d%b%y\"), 'A3', 450]"
   ]
  },
  {
   "cell_type": "code",
   "execution_count": 62,
   "metadata": {},
   "outputs": [
    {
     "data": {
      "text/plain": [
       "'Sunderland, 2019-04-04 00:00:00, A3, 450'"
      ]
     },
     "execution_count": 62,
     "metadata": {},
     "output_type": "execute_result"
    }
   ],
   "source": [
    "ab = tuple(race)\n",
    "\"%s, %s, %s, %s\" % (ab)"
   ]
  },
  {
   "cell_type": "code",
   "execution_count": 5,
   "metadata": {},
   "outputs": [],
   "source": [
    "with open(\"dog.html\", \"r\") as f_:\n",
    "    result_page = BeautifulSoup(f_, \"html.parser\")"
   ]
  },
  {
   "cell_type": "code",
   "execution_count": 45,
   "metadata": {},
   "outputs": [],
   "source": [
    "def normalize(row, t_):    \n",
    "    try: \n",
    "        if t_ == \"text\":\n",
    "            return row.text\n",
    "        if t_ == \"date\":\n",
    "            s = row.text.replace(\" \", \"\")\n",
    "            s = datetime.strptime(s, \"%d%b%y\")\n",
    "            return s\n",
    "        if t_ == \"distance\":\n",
    "            return int(row.text.replace(\"m\", \"\"))\n",
    "        if t_ == \"only_digits\":\n",
    "            return int(re.sub(\"\\D\", \"\", row.text))\n",
    "        if t_ == \"bends\":\n",
    "            row = row.text.replace(\"-\", \"\")\n",
    "            return np.average(np.array(list(row)).astype(int))        \n",
    "        if t_ == \"remarks\":\n",
    "            return row.text.lower().split(\",\") \n",
    "        if t_ == \"float\":\n",
    "            return np.float(row.text)\n",
    "        if t_ == \"int\":\n",
    "            return np.int(row.text)\n",
    "    except Exception as e:\n",
    "        return float(\"NaN\")"
   ]
  },
  {
   "cell_type": "code",
   "execution_count": 46,
   "metadata": {},
   "outputs": [],
   "source": [
    "stats = list()\n",
    "for tr in result_page.find(\"table\", {\"id\":\"sortableTable\"}).find(\"tbody\").find_all(\"tr\", class_=\"row\"):\n",
    "    c = tr.find_all(\"td\")\n",
    "    stats.append([\n",
    "        normalize(c[0],  \"date\"),\n",
    "        normalize(c[1],  \"text\"),\n",
    "        normalize(c[2],  \"distance\"),\n",
    "        normalize(c[3],  \"only_digits\"),\n",
    "        normalize(c[4],  \"float\"),\n",
    "        normalize(c[5],  \"bends\"),\n",
    "        normalize(c[6],  \"only_digits\"),\n",
    "        normalize(c[9],  \"remarks\"),\n",
    "        normalize(c[10], \"float\"),\n",
    "        normalize(c[12], \"float\"),\n",
    "        normalize(c[14], \"text\"),\n",
    "        normalize(c[15], \"float\"),\n",
    "    ])"
   ]
  },
  {
   "cell_type": "code",
   "execution_count": 47,
   "metadata": {},
   "outputs": [],
   "source": [
    "stats = pd.DataFrame(stats, columns=[\n",
    "            \"date\",\n",
    "            \"local\",\n",
    "            \"distance\",\n",
    "            \"trap\",\n",
    "            \"split\",\n",
    "            \"bends\",\n",
    "            \"position\",\n",
    "            \"remarks\",\n",
    "            \"win_time\",\n",
    "            \"weight\",\n",
    "            \"grade\",\n",
    "            \"cal_time\"\n",
    "        ])"
   ]
  },
  {
   "cell_type": "code",
   "execution_count": 50,
   "metadata": {},
   "outputs": [],
   "source": [
    "stats = stats.dropna(subset=[\"position\"], axis=0)"
   ]
  },
  {
   "cell_type": "code",
   "execution_count": 68,
   "metadata": {},
   "outputs": [
    {
     "data": {
      "text/plain": [
       "8"
      ]
     },
     "execution_count": 68,
     "metadata": {},
     "output_type": "execute_result"
    }
   ],
   "source": [
    "(race[1] - stats[\"date\"].iloc[0]).days"
   ]
  },
  {
   "cell_type": "code",
   "execution_count": 51,
   "metadata": {},
   "outputs": [],
   "source": [
    "stats = stats[stats[\"date\"] < race[1]]"
   ]
  },
  {
   "cell_type": "code",
   "execution_count": 52,
   "metadata": {},
   "outputs": [],
   "source": [
    "dog_features = list()\n",
    "for r in [5,10,15]:\n",
    "    s_ = stats[:r]\n",
    "    _tmp = [\n",
    "        # Frequency at distance\n",
    "        float(len(s_[s_[\"distance\"] == race[3]]))/r,\n",
    "        # Frequency at trap \n",
    "        float(len(s_[s_[\"trap\"]     == 2]))/r,\n",
    "        # Frequency at grade \n",
    "        float(len(s_[s_[\"grade\"]    == race[2]]))/r,\n",
    "        # Frequency at third positions\n",
    "        float(len(s_[s_[\"position\"] <= 3])) / r,\n",
    "        # Frequency at last positions\n",
    "        float(len(s_[s_[\"position\"] > 3])) / r,\n",
    "        np.mean(s_[\"bends\"])        \n",
    "    ]\n",
    "    dog_features.append(np.round(_tmp, 2))"
   ]
  },
  {
   "cell_type": "code",
   "execution_count": 53,
   "metadata": {},
   "outputs": [],
   "source": [
    "dog_features = np.array(dog_features)"
   ]
  },
  {
   "cell_type": "code",
   "execution_count": 55,
   "metadata": {},
   "outputs": [
    {
     "data": {
      "text/plain": [
       "array([[1.  , 0.  , 0.6 , 0.6 , 0.4 , 4.35, 1.  , 0.  , 0.6 , 0.5 , 0.5 ,\n",
       "        3.62, 0.93, 0.07, 0.6 , 0.53, 0.47, 3.27]])"
      ]
     },
     "execution_count": 55,
     "metadata": {},
     "output_type": "execute_result"
    }
   ],
   "source": [
    "dog_features.reshape(1,18)"
   ]
  },
  {
   "cell_type": "code",
   "execution_count": null,
   "metadata": {},
   "outputs": [],
   "source": [
    "np.array(1,3,4)"
   ]
  },
  {
   "cell_type": "code",
   "execution_count": null,
   "metadata": {},
   "outputs": [],
   "source": []
  }
 ],
 "metadata": {
  "kernelspec": {
   "display_name": "Python 3",
   "language": "python",
   "name": "python3"
  },
  "language_info": {
   "codemirror_mode": {
    "name": "ipython",
    "version": 3
   },
   "file_extension": ".py",
   "mimetype": "text/x-python",
   "name": "python",
   "nbconvert_exporter": "python",
   "pygments_lexer": "ipython3",
   "version": "3.6.7"
  }
 },
 "nbformat": 4,
 "nbformat_minor": 2
}
