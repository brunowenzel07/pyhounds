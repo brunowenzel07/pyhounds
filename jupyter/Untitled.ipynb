{
 "cells": [
  {
   "cell_type": "code",
   "execution_count": 1,
   "metadata": {},
   "outputs": [],
   "source": [
    "import pandas as pd \n",
    "import numpy as np \n",
    "import seaborn as sns"
   ]
  },
  {
   "cell_type": "code",
   "execution_count": 2,
   "metadata": {},
   "outputs": [],
   "source": [
    "from sklearn.model_selection import train_test_split"
   ]
  },
  {
   "cell_type": "code",
   "execution_count": 3,
   "metadata": {},
   "outputs": [],
   "source": [
    "# names = [TRACK, DATE, GRADE, DISTANCE, \n",
    "# A_5D, A_5T, A_5G, A_5PL, A_5PG, A_5B, \n",
    "# A_10D, A_10T, A_10G, A_10PL, A_10PG, A_10B, \n",
    "# A_15D, A_15T, A_15G, A_15PL, A_15PG, A_15B, \n",
    "# A_LDR, A_PLACE, A_TRAP, \n",
    "# B_5D, B_5T, B_5G, B_5PL, B_5PG, B_5B, \n",
    "# B_10D, B_10T, B_10G, B_10PL, B_10PG, B_10B, \n",
    "# B_15D, B_15T, B_15G, B_15PL, B_15PG, B_15B, \n",
    "# B_LDR, B_PLBCE, B_TRBP]"
   ]
  },
  {
   "cell_type": "code",
   "execution_count": 4,
   "metadata": {},
   "outputs": [],
   "source": [
    "features = [\n",
    "\"5D\",   \"5T\",  \"5G\",  \"5PL\",  \"5PG\",  \"5B\", \n",
    "\"10D\", \"10T\", \"10G\", \"10PL\", \"10PG\", \"10B\", \n",
    "\"15D\", \"15T\", \"15G\", \"15PL\", \"15PG\", \"15B\"\n",
    "]"
   ]
  },
  {
   "cell_type": "code",
   "execution_count": 26,
   "metadata": {},
   "outputs": [],
   "source": [
    "df = pd.read_csv(\"../data/dataset.csv\", index_col=False)"
   ]
  },
  {
   "cell_type": "code",
   "execution_count": 6,
   "metadata": {},
   "outputs": [],
   "source": [
    "def normalize(s):\n",
    "    if s[0] == 0 or s[0] == s[1]:\n",
    "        return 0.0\n",
    "    else:\n",
    "        return s[0] / (s[0] + s[1])\n",
    "    \n",
    "def labeling(s):\n",
    "    if int(s[0]) < int(s[1]):\n",
    "        return \"A\"\n",
    "    else:\n",
    "        return \"B\""
   ]
  },
  {
   "cell_type": "code",
   "execution_count": 25,
   "metadata": {},
   "outputs": [],
   "source": [
    "df[\"RESULT\"] = df[[\"A_PLACE\", \"B_PLACE\"]].apply(labeling, axis=1)"
   ]
  },
  {
   "cell_type": "code",
   "execution_count": 11,
   "metadata": {
    "scrolled": false
   },
   "outputs": [
    {
     "data": {
      "text/html": [
       "<div>\n",
       "<style scoped>\n",
       "    .dataframe tbody tr th:only-of-type {\n",
       "        vertical-align: middle;\n",
       "    }\n",
       "\n",
       "    .dataframe tbody tr th {\n",
       "        vertical-align: top;\n",
       "    }\n",
       "\n",
       "    .dataframe thead th {\n",
       "        text-align: right;\n",
       "    }\n",
       "</style>\n",
       "<table border=\"1\" class=\"dataframe\">\n",
       "  <thead>\n",
       "    <tr style=\"text-align: right;\">\n",
       "      <th></th>\n",
       "      <th>TRACK</th>\n",
       "      <th>DATE</th>\n",
       "      <th>GRADE</th>\n",
       "      <th>DISTANCE</th>\n",
       "      <th>A_5D</th>\n",
       "      <th>A_5T</th>\n",
       "      <th>A_5G</th>\n",
       "      <th>A_5PL</th>\n",
       "      <th>A_5PG</th>\n",
       "      <th>A_5B</th>\n",
       "      <th>...</th>\n",
       "      <th>B_15D</th>\n",
       "      <th>B_15T</th>\n",
       "      <th>B_15G</th>\n",
       "      <th>B_15PL</th>\n",
       "      <th>B_15PG</th>\n",
       "      <th>B_15B</th>\n",
       "      <th>B_LDR</th>\n",
       "      <th>B_PLACE</th>\n",
       "      <th>B_TRAP</th>\n",
       "      <th>RESULT</th>\n",
       "    </tr>\n",
       "  </thead>\n",
       "  <tbody>\n",
       "    <tr>\n",
       "      <th>0</th>\n",
       "      <td>Sunderland</td>\n",
       "      <td>2019-04-04 00:00:00</td>\n",
       "      <td>A3</td>\n",
       "      <td>450</td>\n",
       "      <td>1.0</td>\n",
       "      <td>0.6</td>\n",
       "      <td>0.6</td>\n",
       "      <td>0.8</td>\n",
       "      <td>0.2</td>\n",
       "      <td>2.4</td>\n",
       "      <td>...</td>\n",
       "      <td>1.00</td>\n",
       "      <td>0.00</td>\n",
       "      <td>0.33</td>\n",
       "      <td>0.40</td>\n",
       "      <td>0.60</td>\n",
       "      <td>3.22</td>\n",
       "      <td>4.0</td>\n",
       "      <td>2.0</td>\n",
       "      <td>4.0</td>\n",
       "      <td>A</td>\n",
       "    </tr>\n",
       "    <tr>\n",
       "      <th>1</th>\n",
       "      <td>Sunderland</td>\n",
       "      <td>2019-04-04 00:00:00</td>\n",
       "      <td>A3</td>\n",
       "      <td>450</td>\n",
       "      <td>1.0</td>\n",
       "      <td>0.6</td>\n",
       "      <td>0.6</td>\n",
       "      <td>0.8</td>\n",
       "      <td>0.2</td>\n",
       "      <td>2.4</td>\n",
       "      <td>...</td>\n",
       "      <td>1.00</td>\n",
       "      <td>0.00</td>\n",
       "      <td>0.33</td>\n",
       "      <td>0.40</td>\n",
       "      <td>0.60</td>\n",
       "      <td>3.22</td>\n",
       "      <td>4.0</td>\n",
       "      <td>3.0</td>\n",
       "      <td>1.0</td>\n",
       "      <td>A</td>\n",
       "    </tr>\n",
       "    <tr>\n",
       "      <th>2</th>\n",
       "      <td>Sunderland</td>\n",
       "      <td>2019-04-04 00:00:00</td>\n",
       "      <td>A3</td>\n",
       "      <td>450</td>\n",
       "      <td>1.0</td>\n",
       "      <td>0.6</td>\n",
       "      <td>0.6</td>\n",
       "      <td>0.8</td>\n",
       "      <td>0.2</td>\n",
       "      <td>2.4</td>\n",
       "      <td>...</td>\n",
       "      <td>1.00</td>\n",
       "      <td>0.40</td>\n",
       "      <td>0.07</td>\n",
       "      <td>0.47</td>\n",
       "      <td>0.53</td>\n",
       "      <td>3.77</td>\n",
       "      <td>7.0</td>\n",
       "      <td>4.0</td>\n",
       "      <td>3.0</td>\n",
       "      <td>A</td>\n",
       "    </tr>\n",
       "    <tr>\n",
       "      <th>3</th>\n",
       "      <td>Sunderland</td>\n",
       "      <td>2019-04-04 00:00:00</td>\n",
       "      <td>A3</td>\n",
       "      <td>450</td>\n",
       "      <td>1.0</td>\n",
       "      <td>0.6</td>\n",
       "      <td>0.6</td>\n",
       "      <td>0.8</td>\n",
       "      <td>0.2</td>\n",
       "      <td>2.4</td>\n",
       "      <td>...</td>\n",
       "      <td>0.93</td>\n",
       "      <td>0.80</td>\n",
       "      <td>0.20</td>\n",
       "      <td>0.67</td>\n",
       "      <td>0.33</td>\n",
       "      <td>3.08</td>\n",
       "      <td>4.0</td>\n",
       "      <td>5.0</td>\n",
       "      <td>6.0</td>\n",
       "      <td>A</td>\n",
       "    </tr>\n",
       "    <tr>\n",
       "      <th>4</th>\n",
       "      <td>Sunderland</td>\n",
       "      <td>2019-04-04 00:00:00</td>\n",
       "      <td>A3</td>\n",
       "      <td>450</td>\n",
       "      <td>1.0</td>\n",
       "      <td>0.6</td>\n",
       "      <td>0.6</td>\n",
       "      <td>0.8</td>\n",
       "      <td>0.2</td>\n",
       "      <td>2.4</td>\n",
       "      <td>...</td>\n",
       "      <td>0.33</td>\n",
       "      <td>0.27</td>\n",
       "      <td>0.00</td>\n",
       "      <td>0.27</td>\n",
       "      <td>0.07</td>\n",
       "      <td>1.85</td>\n",
       "      <td>8.0</td>\n",
       "      <td>6.0</td>\n",
       "      <td>5.0</td>\n",
       "      <td>A</td>\n",
       "    </tr>\n",
       "  </tbody>\n",
       "</table>\n",
       "<p>5 rows × 47 columns</p>\n",
       "</div>"
      ],
      "text/plain": [
       "        TRACK                 DATE GRADE  DISTANCE  A_5D  A_5T  A_5G  A_5PL  \\\n",
       "0  Sunderland  2019-04-04 00:00:00    A3       450   1.0   0.6   0.6    0.8   \n",
       "1  Sunderland  2019-04-04 00:00:00    A3       450   1.0   0.6   0.6    0.8   \n",
       "2  Sunderland  2019-04-04 00:00:00    A3       450   1.0   0.6   0.6    0.8   \n",
       "3  Sunderland  2019-04-04 00:00:00    A3       450   1.0   0.6   0.6    0.8   \n",
       "4  Sunderland  2019-04-04 00:00:00    A3       450   1.0   0.6   0.6    0.8   \n",
       "\n",
       "   A_5PG  A_5B  ...  B_15D  B_15T  B_15G  B_15PL  B_15PG  B_15B  B_LDR  \\\n",
       "0    0.2   2.4  ...   1.00   0.00   0.33    0.40    0.60   3.22    4.0   \n",
       "1    0.2   2.4  ...   1.00   0.00   0.33    0.40    0.60   3.22    4.0   \n",
       "2    0.2   2.4  ...   1.00   0.40   0.07    0.47    0.53   3.77    7.0   \n",
       "3    0.2   2.4  ...   0.93   0.80   0.20    0.67    0.33   3.08    4.0   \n",
       "4    0.2   2.4  ...   0.33   0.27   0.00    0.27    0.07   1.85    8.0   \n",
       "\n",
       "   B_PLACE  B_TRAP  RESULT  \n",
       "0      2.0     4.0       A  \n",
       "1      3.0     1.0       A  \n",
       "2      4.0     3.0       A  \n",
       "3      5.0     6.0       A  \n",
       "4      6.0     5.0       A  \n",
       "\n",
       "[5 rows x 47 columns]"
      ]
     },
     "execution_count": 11,
     "metadata": {},
     "output_type": "execute_result"
    }
   ],
   "source": [
    "df.head()"
   ]
  },
  {
   "cell_type": "code",
   "execution_count": 33,
   "metadata": {},
   "outputs": [],
   "source": [
    "#df = df[(df[\"DISTANCE\"] == 450) & (df[\"TRACK\"] == \"Sunderland\") & (df[\"GRADE\"] == \"A3\")]\n",
    "df1 = df[(df[\"DISTANCE\"] == 450) & (df[\"TRACK\"] == \"Sunderland\") & (df[\"GRADE\"] == \"A3\")]\n",
    "X = pd.DataFrame(columns=features)\n",
    "for x_col in features:\n",
    "    X[x_col] = df1[[\"A_\"+x_col, \"B_\"+x_col]].apply(normalize, axis=1)"
   ]
  },
  {
   "cell_type": "code",
   "execution_count": 34,
   "metadata": {},
   "outputs": [
    {
     "data": {
      "text/plain": [
       "<seaborn.matrix.ClusterGrid at 0x7f308330e128>"
      ]
     },
     "execution_count": 34,
     "metadata": {},
     "output_type": "execute_result"
    },
    {
     "data": {
      "image/png": "[encoded data removed]",
      "text/plain": [
       "<Figure size 720x720 with 4 Axes>"
      ]
     },
     "metadata": {
      "needs_background": "light"
     },
     "output_type": "display_data"
    }
   ],
   "source": [
    "sns.clustermap(X.corr())"
   ]
  },
  {
   "cell_type": "code",
   "execution_count": 14,
   "metadata": {},
   "outputs": [],
   "source": [
    "X_train, X_test, y_train, y_test = train_test_split(X, df[\"RESULT\"], test_size=0.33, random_state=42)"
   ]
  },
  {
   "cell_type": "code",
   "execution_count": 17,
   "metadata": {},
   "outputs": [],
   "source": [
    "from sklearn.ensemble import RandomForestClassifier"
   ]
  },
  {
   "cell_type": "code",
   "execution_count": 18,
   "metadata": {},
   "outputs": [],
   "source": [
    "clf = RandomForestClassifier(n_estimators=100)"
   ]
  },
  {
   "cell_type": "code",
   "execution_count": 19,
   "metadata": {},
   "outputs": [
    {
     "data": {
      "text/plain": [
       "RandomForestClassifier(bootstrap=True, class_weight=None, criterion='gini',\n",
       "                       max_depth=None, max_features='auto', max_leaf_nodes=None,\n",
       "                       min_impurity_decrease=0.0, min_impurity_split=None,\n",
       "                       min_samples_leaf=1, min_samples_split=2,\n",
       "                       min_weight_fraction_leaf=0.0, n_estimators=100,\n",
       "                       n_jobs=None, oob_score=False, random_state=None,\n",
       "                       verbose=0, warm_start=False)"
      ]
     },
     "execution_count": 19,
     "metadata": {},
     "output_type": "execute_result"
    }
   ],
   "source": [
    "clf.fit(X_train, y_train)"
   ]
  },
  {
   "cell_type": "code",
   "execution_count": 22,
   "metadata": {},
   "outputs": [],
   "source": [
    "y_pred = clf.predict(X_test)"
   ]
  },
  {
   "cell_type": "code",
   "execution_count": 23,
   "metadata": {},
   "outputs": [],
   "source": [
    "from sklearn.metrics import classification_report"
   ]
  },
  {
   "cell_type": "code",
   "execution_count": 24,
   "metadata": {},
   "outputs": [
    {
     "name": "stdout",
     "output_type": "stream",
     "text": [
      "              precision    recall  f1-score   support\n",
      "\n",
      "           A       0.64      0.73      0.68        22\n",
      "           B       0.76      0.68      0.72        28\n",
      "\n",
      "    accuracy                           0.70        50\n",
      "   macro avg       0.70      0.70      0.70        50\n",
      "weighted avg       0.71      0.70      0.70        50\n",
      "\n"
     ]
    }
   ],
   "source": [
    "print(classification_report(y_test, y_pred))"
   ]
  },
  {
   "cell_type": "code",
   "execution_count": null,
   "metadata": {},
   "outputs": [],
   "source": []
  }
 ],
 "metadata": {
  "kernelspec": {
   "display_name": "Python 3",
   "language": "python",
   "name": "python3"
  },
  "language_info": {
   "codemirror_mode": {
    "name": "ipython",
    "version": 3
   },
   "file_extension": ".py",
   "mimetype": "text/x-python",
   "name": "python",
   "nbconvert_exporter": "python",
   "pygments_lexer": "ipython3",
   "version": "3.6.7"
  }
 },
 "nbformat": 4,
 "nbformat_minor": 2
}
