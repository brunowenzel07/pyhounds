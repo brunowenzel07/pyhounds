{
 "cells": [
  {
   "cell_type": "code",
   "execution_count": 1,
   "metadata": {},
   "outputs": [],
   "source": [
    "from bs4 import BeautifulSoup\n",
    "import re \n",
    "from datetime import datetime\n",
    "import pandas as pd\n",
    "import time"
   ]
  },
  {
   "cell_type": "code",
   "execution_count": 2,
   "metadata": {},
   "outputs": [],
   "source": [
    "import numpy as np "
   ]
  },
  {
   "cell_type": "code",
   "execution_count": 196,
   "metadata": {},
   "outputs": [],
   "source": [
    "comments = pd.read_csv(\"../data/comments.csv\")"
   ]
  },
  {
   "cell_type": "code",
   "execution_count": 4,
   "metadata": {},
   "outputs": [],
   "source": [
    "with open(\"dog.html\", \"r\") as f_:\n",
    "    html_page = BeautifulSoup(f_, \"html.parser\")"
   ]
  },
  {
   "cell_type": "code",
   "execution_count": 5,
   "metadata": {},
   "outputs": [],
   "source": [
    "trs = html_page.find(\n",
    "            \"div\", class_=\"results-dog-details\").find(\n",
    "            \"table\", class_=\"formGrid\").find(\n",
    "            \"tbody\").find_all(\n",
    "            \"tr\", class_=\"row\")"
   ]
  },
  {
   "cell_type": "code",
   "execution_count": 150,
   "metadata": {},
   "outputs": [],
   "source": [
    "dog_comment = list()\n",
    "dog_trap = list()\n",
    "for tr in trs:\n",
    "    c = tr.find_all(\"td\")\n",
    "    cm = dict()    \n",
    "    dog_trap.append(c[3].text)\n",
    "    for s in c[9].text.split(\",\"):        \n",
    "        for po in re.sub(\"[0-9]\", \"\" ,s).split('&'):\n",
    "            if po != \"\":\n",
    "                dog_comment.append(po.lower())"
   ]
  },
  {
   "cell_type": "code",
   "execution_count": 151,
   "metadata": {},
   "outputs": [],
   "source": [
    "dog_comment = pd.DataFrame(dog_comment, columns=[\"comment\"])"
   ]
  },
  {
   "cell_type": "code",
   "execution_count": 152,
   "metadata": {
    "scrolled": true
   },
   "outputs": [
    {
     "data": {
      "text/plain": [
       "'mid, crd, clrrn, saw, ld'"
      ]
     },
     "execution_count": 152,
     "metadata": {},
     "output_type": "execute_result"
    }
   ],
   "source": [
    "\", \".join(list(dog_comment.comment.value_counts().index[:5].values))"
   ]
  },
  {
   "cell_type": "code",
   "execution_count": 169,
   "metadata": {},
   "outputs": [
    {
     "data": {
      "text/plain": [
       "array(['ald', 'awk', 'blk', 'baulked', 'bmp', 'chl', 'clrrn', 'crd',\n",
       "       'crowded', 'crdnrln', 'crdrnln', 'crdrnup', 'displd', 'dsp', 'ep',\n",
       "       'evch', 'fcdck', 'ckd', 'checked', 'fell', 'hldon', 'imp',\n",
       "       'impeded', 'ko', 'lame', 'ld', 'ldnrln', 'mid', 'mid-w', 'msdbrk',\n",
       "       'qaw', 'rls', 'saw', 'snled', 'vqaw', 'vsaw', 'vw', 'w', 'wide'],\n",
       "      dtype=object)"
      ]
     },
     "execution_count": 169,
     "metadata": {},
     "output_type": "execute_result"
    }
   ],
   "source": [
    "comments.rmk.values"
   ]
  },
  {
   "cell_type": "code",
   "execution_count": 197,
   "metadata": {},
   "outputs": [
    {
     "name": "stdout",
     "output_type": "stream",
     "text": [
      " Corre pelo meio \n",
      " Truncado em curvas\n",
      " Torridas limpas\n",
      " Largadas lentas\n",
      " Libera bem em curvas\n"
     ]
    }
   ],
   "source": [
    "for i in dog_comment.comment.value_counts().index[:5]:\n",
    "    if i in comments.rmk.values:\n",
    "        print(comments[comments[\"rmk\"] == i].values[0][1])"
   ]
  },
  {
   "cell_type": "code",
   "execution_count": null,
   "metadata": {},
   "outputs": [],
   "source": []
  }
 ],
 "metadata": {
  "kernelspec": {
   "display_name": "Python 3",
   "language": "python",
   "name": "python3"
  },
  "language_info": {
   "codemirror_mode": {
    "name": "ipython",
    "version": 3
   },
   "file_extension": ".py",
   "mimetype": "text/x-python",
   "name": "python",
   "nbconvert_exporter": "python",
   "pygments_lexer": "ipython3",
   "version": "3.6.5"
  }
 },
 "nbformat": 4,
 "nbformat_minor": 2
}
