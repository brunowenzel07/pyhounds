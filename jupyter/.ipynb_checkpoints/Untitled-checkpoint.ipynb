{
 "cells": [
  {
   "cell_type": "code",
   "execution_count": 2,
   "metadata": {},
   "outputs": [],
   "source": [
    "import pandas as pd \n",
    "import numpy as np \n",
    "import seaborn as sns"
   ]
  },
  {
   "cell_type": "code",
   "execution_count": 3,
   "metadata": {},
   "outputs": [],
   "source": [
    "import matplotlib.pyplot as plt"
   ]
  },
  {
   "cell_type": "code",
   "execution_count": 4,
   "metadata": {},
   "outputs": [],
   "source": [
    "from sklearn.model_selection import train_test_split"
   ]
  },
  {
   "cell_type": "code",
   "execution_count": 5,
   "metadata": {},
   "outputs": [],
   "source": [
    "names = [\"full\",\"trap\",     \n",
    "\"distance\",\"local\", \n",
    "\"grade\",    \n",
    "\"dist_trap\",\"dist_grade\",\n",
    "\"first_full\",\n",
    "\"first_trap\",\"first_dist\",\"first_local\",\"first_grade\",\"tree_full\",\"tree_trap\",\n",
    "\"tree_dist\",\n",
    "\"tree_local\",\n",
    "\"tree_grade\",\"mean_time\",\n",
    "\"min_time\", \n",
    "\"max_time\",  \n",
    "\"by_mean_lost\",\"by_mean_win\",\"bends_mean\",\"position\",\n",
    "\"days_lr\",  \n",
    "\"whelping\",\"PA\", \"RES\"]"
   ]
  },
  {
   "cell_type": "code",
   "execution_count": 9,
   "metadata": {},
   "outputs": [],
   "source": [
    "df = pd.read_csv(\"../data/dataset.csv\", names=names)"
   ]
  },
  {
   "cell_type": "code",
   "execution_count": 12,
   "metadata": {},
   "outputs": [
    {
     "data": {
      "text/html": [
       "<div>\n",
       "<style scoped>\n",
       "    .dataframe tbody tr th:only-of-type {\n",
       "        vertical-align: middle;\n",
       "    }\n",
       "\n",
       "    .dataframe tbody tr th {\n",
       "        vertical-align: top;\n",
       "    }\n",
       "\n",
       "    .dataframe thead th {\n",
       "        text-align: right;\n",
       "    }\n",
       "</style>\n",
       "<table border=\"1\" class=\"dataframe\">\n",
       "  <thead>\n",
       "    <tr style=\"text-align: right;\">\n",
       "      <th></th>\n",
       "      <th>full</th>\n",
       "      <th>trap</th>\n",
       "      <th>distance</th>\n",
       "      <th>local</th>\n",
       "      <th>grade</th>\n",
       "      <th>dist_trap</th>\n",
       "      <th>dist_grade</th>\n",
       "      <th>first_full</th>\n",
       "      <th>first_trap</th>\n",
       "      <th>first_dist</th>\n",
       "      <th>...</th>\n",
       "      <th>max_time</th>\n",
       "      <th>by_mean_lost</th>\n",
       "      <th>by_mean_win</th>\n",
       "      <th>bends_mean</th>\n",
       "      <th>position</th>\n",
       "      <th>days_lr</th>\n",
       "      <th>whelping</th>\n",
       "      <th>PA</th>\n",
       "      <th>PB</th>\n",
       "      <th>RES</th>\n",
       "    </tr>\n",
       "  </thead>\n",
       "  <tbody>\n",
       "    <tr>\n",
       "      <th>0</th>\n",
       "      <td>0.833</td>\n",
       "      <td>0.320</td>\n",
       "      <td>0.0</td>\n",
       "      <td>0.238</td>\n",
       "      <td>0.636</td>\n",
       "      <td>0.238</td>\n",
       "      <td>0.0</td>\n",
       "      <td>0.600</td>\n",
       "      <td>0.261</td>\n",
       "      <td>0.400</td>\n",
       "      <td>...</td>\n",
       "      <td>0.460</td>\n",
       "      <td>0.000</td>\n",
       "      <td>0.526</td>\n",
       "      <td>0.551</td>\n",
       "      <td>0.333</td>\n",
       "      <td>0.431</td>\n",
       "      <td>2</td>\n",
       "      <td>4</td>\n",
       "      <td>A</td>\n",
       "      <td>NaN</td>\n",
       "    </tr>\n",
       "    <tr>\n",
       "      <th>1</th>\n",
       "      <td>0.714</td>\n",
       "      <td>0.253</td>\n",
       "      <td>0.0</td>\n",
       "      <td>0.208</td>\n",
       "      <td>0.700</td>\n",
       "      <td>0.208</td>\n",
       "      <td>0.0</td>\n",
       "      <td>0.300</td>\n",
       "      <td>0.162</td>\n",
       "      <td>0.233</td>\n",
       "      <td>...</td>\n",
       "      <td>0.536</td>\n",
       "      <td>0.000</td>\n",
       "      <td>0.456</td>\n",
       "      <td>0.545</td>\n",
       "      <td>0.364</td>\n",
       "      <td>0.373</td>\n",
       "      <td>2</td>\n",
       "      <td>1</td>\n",
       "      <td>A</td>\n",
       "      <td>NaN</td>\n",
       "    </tr>\n",
       "    <tr>\n",
       "      <th>2</th>\n",
       "      <td>1.000</td>\n",
       "      <td>0.436</td>\n",
       "      <td>0.0</td>\n",
       "      <td>0.833</td>\n",
       "      <td>0.519</td>\n",
       "      <td>0.833</td>\n",
       "      <td>0.0</td>\n",
       "      <td>0.375</td>\n",
       "      <td>0.375</td>\n",
       "      <td>0.583</td>\n",
       "      <td>...</td>\n",
       "      <td>0.516</td>\n",
       "      <td>0.000</td>\n",
       "      <td>0.423</td>\n",
       "      <td>0.375</td>\n",
       "      <td>0.364</td>\n",
       "      <td>0.537</td>\n",
       "      <td>2</td>\n",
       "      <td>3</td>\n",
       "      <td>A</td>\n",
       "      <td>NaN</td>\n",
       "    </tr>\n",
       "    <tr>\n",
       "      <th>3</th>\n",
       "      <td>0.625</td>\n",
       "      <td>0.632</td>\n",
       "      <td>0.0</td>\n",
       "      <td>0.625</td>\n",
       "      <td>0.538</td>\n",
       "      <td>0.625</td>\n",
       "      <td>0.0</td>\n",
       "      <td>0.375</td>\n",
       "      <td>0.500</td>\n",
       "      <td>0.609</td>\n",
       "      <td>...</td>\n",
       "      <td>0.578</td>\n",
       "      <td>0.000</td>\n",
       "      <td>0.517</td>\n",
       "      <td>0.574</td>\n",
       "      <td>0.500</td>\n",
       "      <td>0.524</td>\n",
       "      <td>2</td>\n",
       "      <td>6</td>\n",
       "      <td>A</td>\n",
       "      <td>NaN</td>\n",
       "    </tr>\n",
       "    <tr>\n",
       "      <th>4</th>\n",
       "      <td>1.000</td>\n",
       "      <td>0.828</td>\n",
       "      <td>0.0</td>\n",
       "      <td>1.000</td>\n",
       "      <td>0.778</td>\n",
       "      <td>1.000</td>\n",
       "      <td>0.0</td>\n",
       "      <td>0.500</td>\n",
       "      <td>0.600</td>\n",
       "      <td>0.778</td>\n",
       "      <td>...</td>\n",
       "      <td>1.000</td>\n",
       "      <td>0.000</td>\n",
       "      <td>1.000</td>\n",
       "      <td>1.000</td>\n",
       "      <td>0.333</td>\n",
       "      <td>0.665</td>\n",
       "      <td>2</td>\n",
       "      <td>5</td>\n",
       "      <td>A</td>\n",
       "      <td>NaN</td>\n",
       "    </tr>\n",
       "    <tr>\n",
       "      <th>5</th>\n",
       "      <td>0.167</td>\n",
       "      <td>0.680</td>\n",
       "      <td>0.0</td>\n",
       "      <td>0.762</td>\n",
       "      <td>0.364</td>\n",
       "      <td>0.762</td>\n",
       "      <td>0.0</td>\n",
       "      <td>0.400</td>\n",
       "      <td>0.739</td>\n",
       "      <td>0.600</td>\n",
       "      <td>...</td>\n",
       "      <td>0.540</td>\n",
       "      <td>1.000</td>\n",
       "      <td>0.474</td>\n",
       "      <td>0.449</td>\n",
       "      <td>0.667</td>\n",
       "      <td>0.569</td>\n",
       "      <td>4</td>\n",
       "      <td>2</td>\n",
       "      <td>B</td>\n",
       "      <td>NaN</td>\n",
       "    </tr>\n",
       "    <tr>\n",
       "      <th>6</th>\n",
       "      <td>0.333</td>\n",
       "      <td>0.418</td>\n",
       "      <td>0.0</td>\n",
       "      <td>0.457</td>\n",
       "      <td>0.571</td>\n",
       "      <td>0.457</td>\n",
       "      <td>0.0</td>\n",
       "      <td>0.222</td>\n",
       "      <td>0.354</td>\n",
       "      <td>0.313</td>\n",
       "      <td>...</td>\n",
       "      <td>0.576</td>\n",
       "      <td>0.467</td>\n",
       "      <td>0.430</td>\n",
       "      <td>0.495</td>\n",
       "      <td>0.533</td>\n",
       "      <td>0.440</td>\n",
       "      <td>4</td>\n",
       "      <td>1</td>\n",
       "      <td>A</td>\n",
       "      <td>NaN</td>\n",
       "    </tr>\n",
       "    <tr>\n",
       "      <th>7</th>\n",
       "      <td>1.000</td>\n",
       "      <td>0.622</td>\n",
       "      <td>0.0</td>\n",
       "      <td>0.941</td>\n",
       "      <td>0.381</td>\n",
       "      <td>0.941</td>\n",
       "      <td>0.0</td>\n",
       "      <td>0.286</td>\n",
       "      <td>0.630</td>\n",
       "      <td>0.677</td>\n",
       "      <td>...</td>\n",
       "      <td>0.556</td>\n",
       "      <td>1.000</td>\n",
       "      <td>0.398</td>\n",
       "      <td>0.329</td>\n",
       "      <td>0.533</td>\n",
       "      <td>0.604</td>\n",
       "      <td>4</td>\n",
       "      <td>3</td>\n",
       "      <td>A</td>\n",
       "      <td>NaN</td>\n",
       "    </tr>\n",
       "    <tr>\n",
       "      <th>8</th>\n",
       "      <td>0.250</td>\n",
       "      <td>0.785</td>\n",
       "      <td>0.0</td>\n",
       "      <td>0.842</td>\n",
       "      <td>0.400</td>\n",
       "      <td>0.842</td>\n",
       "      <td>0.0</td>\n",
       "      <td>0.286</td>\n",
       "      <td>0.739</td>\n",
       "      <td>0.700</td>\n",
       "      <td>...</td>\n",
       "      <td>0.617</td>\n",
       "      <td>0.368</td>\n",
       "      <td>0.491</td>\n",
       "      <td>0.524</td>\n",
       "      <td>0.667</td>\n",
       "      <td>0.593</td>\n",
       "      <td>4</td>\n",
       "      <td>6</td>\n",
       "      <td>A</td>\n",
       "      <td>NaN</td>\n",
       "    </tr>\n",
       "    <tr>\n",
       "      <th>9</th>\n",
       "      <td>1.000</td>\n",
       "      <td>0.911</td>\n",
       "      <td>0.0</td>\n",
       "      <td>1.000</td>\n",
       "      <td>0.667</td>\n",
       "      <td>1.000</td>\n",
       "      <td>0.0</td>\n",
       "      <td>0.400</td>\n",
       "      <td>0.810</td>\n",
       "      <td>0.840</td>\n",
       "      <td>...</td>\n",
       "      <td>1.000</td>\n",
       "      <td>1.000</td>\n",
       "      <td>1.000</td>\n",
       "      <td>1.000</td>\n",
       "      <td>0.500</td>\n",
       "      <td>0.723</td>\n",
       "      <td>4</td>\n",
       "      <td>5</td>\n",
       "      <td>A</td>\n",
       "      <td>NaN</td>\n",
       "    </tr>\n",
       "  </tbody>\n",
       "</table>\n",
       "<p>10 rows × 29 columns</p>\n",
       "</div>"
      ],
      "text/plain": [
       "    full   trap  distance  local  grade  dist_trap  dist_grade  first_full  \\\n",
       "0  0.833  0.320       0.0  0.238  0.636      0.238         0.0       0.600   \n",
       "1  0.714  0.253       0.0  0.208  0.700      0.208         0.0       0.300   \n",
       "2  1.000  0.436       0.0  0.833  0.519      0.833         0.0       0.375   \n",
       "3  0.625  0.632       0.0  0.625  0.538      0.625         0.0       0.375   \n",
       "4  1.000  0.828       0.0  1.000  0.778      1.000         0.0       0.500   \n",
       "5  0.167  0.680       0.0  0.762  0.364      0.762         0.0       0.400   \n",
       "6  0.333  0.418       0.0  0.457  0.571      0.457         0.0       0.222   \n",
       "7  1.000  0.622       0.0  0.941  0.381      0.941         0.0       0.286   \n",
       "8  0.250  0.785       0.0  0.842  0.400      0.842         0.0       0.286   \n",
       "9  1.000  0.911       0.0  1.000  0.667      1.000         0.0       0.400   \n",
       "\n",
       "   first_trap  first_dist  ...  max_time  by_mean_lost  by_mean_win  \\\n",
       "0       0.261       0.400  ...     0.460         0.000        0.526   \n",
       "1       0.162       0.233  ...     0.536         0.000        0.456   \n",
       "2       0.375       0.583  ...     0.516         0.000        0.423   \n",
       "3       0.500       0.609  ...     0.578         0.000        0.517   \n",
       "4       0.600       0.778  ...     1.000         0.000        1.000   \n",
       "5       0.739       0.600  ...     0.540         1.000        0.474   \n",
       "6       0.354       0.313  ...     0.576         0.467        0.430   \n",
       "7       0.630       0.677  ...     0.556         1.000        0.398   \n",
       "8       0.739       0.700  ...     0.617         0.368        0.491   \n",
       "9       0.810       0.840  ...     1.000         1.000        1.000   \n",
       "\n",
       "   bends_mean  position  days_lr  whelping  PA  PB  RES  \n",
       "0       0.551     0.333    0.431         2   4   A  NaN  \n",
       "1       0.545     0.364    0.373         2   1   A  NaN  \n",
       "2       0.375     0.364    0.537         2   3   A  NaN  \n",
       "3       0.574     0.500    0.524         2   6   A  NaN  \n",
       "4       1.000     0.333    0.665         2   5   A  NaN  \n",
       "5       0.449     0.667    0.569         4   2   B  NaN  \n",
       "6       0.495     0.533    0.440         4   1   A  NaN  \n",
       "7       0.329     0.533    0.604         4   3   A  NaN  \n",
       "8       0.524     0.667    0.593         4   6   A  NaN  \n",
       "9       1.000     0.500    0.723         4   5   A  NaN  \n",
       "\n",
       "[10 rows x 29 columns]"
      ]
     },
     "execution_count": 12,
     "metadata": {},
     "output_type": "execute_result"
    }
   ],
   "source": [
    "df.head(10)"
   ]
  },
  {
   "cell_type": "code",
   "execution_count": 6,
   "metadata": {},
   "outputs": [],
   "source": [
    "def normalize(s):\n",
    "    s = np.array(s).astype(np.float)\n",
    "    if s[0] == 0 or s[0] == s[1]:\n",
    "        return 0.0\n",
    "    else:\n",
    "        return s[0] / (s[0] + s[1])    \n",
    "def labeling(s):\n",
    "    if int(s[0]) < int(s[1]):\n",
    "        return \"A\"\n",
    "    else:\n",
    "        return \"B\""
   ]
  },
  {
   "cell_type": "code",
   "execution_count": 7,
   "metadata": {},
   "outputs": [],
   "source": [
    "df[\"RESULT\"] = df[[\"A_PLACE\", \"B_PLACE\"]].apply(labeling, axis=1)"
   ]
  },
  {
   "cell_type": "code",
   "execution_count": 13,
   "metadata": {},
   "outputs": [],
   "source": [
    "#df = df[(df[\"DISTANCE\"] == 450) & (df[\"TRACK\"] == \"Sunderland\") & (df[\"GRADE\"] == \"A3\")]\n",
    "df1 = df[(df[\"DISTANCE\"] == 450) & (df[\"TRACK\"] == \"Sunderland\")]\n",
    "X = pd.DataFrame(columns=features)"
   ]
  },
  {
   "cell_type": "code",
   "execution_count": 14,
   "metadata": {},
   "outputs": [],
   "source": [
    "for x_col in features:\n",
    "    X[x_col] = df1[[\"A_\"+x_col, \"B_\"+x_col]].apply(normalize, axis=1)"
   ]
  },
  {
   "cell_type": "code",
   "execution_count": 15,
   "metadata": {},
   "outputs": [
    {
     "data": {
      "text/plain": [
       "(1020, 19)"
      ]
     },
     "execution_count": 15,
     "metadata": {},
     "output_type": "execute_result"
    }
   ],
   "source": [
    "X.shape"
   ]
  },
  {
   "cell_type": "code",
   "execution_count": 16,
   "metadata": {},
   "outputs": [
    {
     "data": {
      "text/html": [
       "<div>\n",
       "<style scoped>\n",
       "    .dataframe tbody tr th:only-of-type {\n",
       "        vertical-align: middle;\n",
       "    }\n",
       "\n",
       "    .dataframe tbody tr th {\n",
       "        vertical-align: top;\n",
       "    }\n",
       "\n",
       "    .dataframe thead th {\n",
       "        text-align: right;\n",
       "    }\n",
       "</style>\n",
       "<table border=\"1\" class=\"dataframe\">\n",
       "  <thead>\n",
       "    <tr style=\"text-align: right;\">\n",
       "      <th></th>\n",
       "      <th>5D</th>\n",
       "      <th>5T</th>\n",
       "      <th>5G</th>\n",
       "      <th>5PL</th>\n",
       "      <th>5PG</th>\n",
       "      <th>5B</th>\n",
       "      <th>10D</th>\n",
       "      <th>10T</th>\n",
       "      <th>10G</th>\n",
       "      <th>10PL</th>\n",
       "      <th>10PG</th>\n",
       "      <th>10B</th>\n",
       "      <th>15D</th>\n",
       "      <th>15T</th>\n",
       "      <th>15G</th>\n",
       "      <th>15PL</th>\n",
       "      <th>15PG</th>\n",
       "      <th>15B</th>\n",
       "      <th>LDR</th>\n",
       "    </tr>\n",
       "  </thead>\n",
       "  <tbody>\n",
       "    <tr>\n",
       "      <th>0</th>\n",
       "      <td>0.000000</td>\n",
       "      <td>1.000000</td>\n",
       "      <td>0.00</td>\n",
       "      <td>0.000000</td>\n",
       "      <td>0.000000</td>\n",
       "      <td>0.000000</td>\n",
       "      <td>0.000000</td>\n",
       "      <td>1.000000</td>\n",
       "      <td>0.000000</td>\n",
       "      <td>0.000000</td>\n",
       "      <td>0.000000</td>\n",
       "      <td>0.000000</td>\n",
       "      <td>0.000000</td>\n",
       "      <td>1.000000</td>\n",
       "      <td>0.000000</td>\n",
       "      <td>0.000000</td>\n",
       "      <td>0.000000</td>\n",
       "      <td>0.000000</td>\n",
       "      <td>0.000000</td>\n",
       "    </tr>\n",
       "    <tr>\n",
       "      <th>1</th>\n",
       "      <td>0.000000</td>\n",
       "      <td>1.000000</td>\n",
       "      <td>0.00</td>\n",
       "      <td>0.000000</td>\n",
       "      <td>0.000000</td>\n",
       "      <td>0.000000</td>\n",
       "      <td>0.000000</td>\n",
       "      <td>1.000000</td>\n",
       "      <td>0.000000</td>\n",
       "      <td>0.000000</td>\n",
       "      <td>0.000000</td>\n",
       "      <td>0.000000</td>\n",
       "      <td>0.000000</td>\n",
       "      <td>1.000000</td>\n",
       "      <td>0.000000</td>\n",
       "      <td>0.000000</td>\n",
       "      <td>0.000000</td>\n",
       "      <td>0.000000</td>\n",
       "      <td>0.000000</td>\n",
       "    </tr>\n",
       "    <tr>\n",
       "      <th>2</th>\n",
       "      <td>0.000000</td>\n",
       "      <td>0.750000</td>\n",
       "      <td>0.75</td>\n",
       "      <td>0.666667</td>\n",
       "      <td>0.250000</td>\n",
       "      <td>0.372093</td>\n",
       "      <td>0.000000</td>\n",
       "      <td>0.571429</td>\n",
       "      <td>0.833333</td>\n",
       "      <td>0.444444</td>\n",
       "      <td>0.545455</td>\n",
       "      <td>0.471591</td>\n",
       "      <td>0.000000</td>\n",
       "      <td>0.666667</td>\n",
       "      <td>0.825000</td>\n",
       "      <td>0.459770</td>\n",
       "      <td>0.530973</td>\n",
       "      <td>0.460658</td>\n",
       "      <td>0.363636</td>\n",
       "    </tr>\n",
       "    <tr>\n",
       "      <th>3</th>\n",
       "      <td>0.555556</td>\n",
       "      <td>0.000000</td>\n",
       "      <td>0.60</td>\n",
       "      <td>0.571429</td>\n",
       "      <td>0.333333</td>\n",
       "      <td>0.444444</td>\n",
       "      <td>0.526316</td>\n",
       "      <td>0.000000</td>\n",
       "      <td>0.625000</td>\n",
       "      <td>0.444444</td>\n",
       "      <td>0.545455</td>\n",
       "      <td>0.471591</td>\n",
       "      <td>0.518135</td>\n",
       "      <td>0.000000</td>\n",
       "      <td>0.622642</td>\n",
       "      <td>0.373832</td>\n",
       "      <td>0.645161</td>\n",
       "      <td>0.511111</td>\n",
       "      <td>0.000000</td>\n",
       "    </tr>\n",
       "    <tr>\n",
       "      <th>4</th>\n",
       "      <td>0.000000</td>\n",
       "      <td>0.428571</td>\n",
       "      <td>1.00</td>\n",
       "      <td>0.000000</td>\n",
       "      <td>0.000000</td>\n",
       "      <td>0.564706</td>\n",
       "      <td>0.666667</td>\n",
       "      <td>0.666667</td>\n",
       "      <td>1.000000</td>\n",
       "      <td>0.000000</td>\n",
       "      <td>0.857143</td>\n",
       "      <td>0.642166</td>\n",
       "      <td>0.751880</td>\n",
       "      <td>0.747664</td>\n",
       "      <td>1.000000</td>\n",
       "      <td>0.597015</td>\n",
       "      <td>0.895522</td>\n",
       "      <td>0.635108</td>\n",
       "      <td>0.333333</td>\n",
       "    </tr>\n",
       "  </tbody>\n",
       "</table>\n",
       "</div>"
      ],
      "text/plain": [
       "         5D        5T    5G       5PL       5PG        5B       10D       10T  \\\n",
       "0  0.000000  1.000000  0.00  0.000000  0.000000  0.000000  0.000000  1.000000   \n",
       "1  0.000000  1.000000  0.00  0.000000  0.000000  0.000000  0.000000  1.000000   \n",
       "2  0.000000  0.750000  0.75  0.666667  0.250000  0.372093  0.000000  0.571429   \n",
       "3  0.555556  0.000000  0.60  0.571429  0.333333  0.444444  0.526316  0.000000   \n",
       "4  0.000000  0.428571  1.00  0.000000  0.000000  0.564706  0.666667  0.666667   \n",
       "\n",
       "        10G      10PL      10PG       10B       15D       15T       15G  \\\n",
       "0  0.000000  0.000000  0.000000  0.000000  0.000000  1.000000  0.000000   \n",
       "1  0.000000  0.000000  0.000000  0.000000  0.000000  1.000000  0.000000   \n",
       "2  0.833333  0.444444  0.545455  0.471591  0.000000  0.666667  0.825000   \n",
       "3  0.625000  0.444444  0.545455  0.471591  0.518135  0.000000  0.622642   \n",
       "4  1.000000  0.000000  0.857143  0.642166  0.751880  0.747664  1.000000   \n",
       "\n",
       "       15PL      15PG       15B       LDR  \n",
       "0  0.000000  0.000000  0.000000  0.000000  \n",
       "1  0.000000  0.000000  0.000000  0.000000  \n",
       "2  0.459770  0.530973  0.460658  0.363636  \n",
       "3  0.373832  0.645161  0.511111  0.000000  \n",
       "4  0.597015  0.895522  0.635108  0.333333  "
      ]
     },
     "execution_count": 16,
     "metadata": {},
     "output_type": "execute_result"
    }
   ],
   "source": [
    "X.head()"
   ]
  },
  {
   "cell_type": "code",
   "execution_count": 17,
   "metadata": {},
   "outputs": [
    {
     "data": {
      "text/plain": [
       "<seaborn.matrix.ClusterGrid at 0x7f9a5218b5f8>"
      ]
     },
     "execution_count": 17,
     "metadata": {},
     "output_type": "execute_result"
    },
    {
     "data": {
      "image/png": "[encoded data removed]",
      "text/plain": [
       "<Figure size 720x720 with 4 Axes>"
      ]
     },
     "metadata": {
      "needs_background": "light"
     },
     "output_type": "display_data"
    }
   ],
   "source": [
    "sns.clustermap(X.corr())"
   ]
  },
  {
   "cell_type": "code",
   "execution_count": 38,
   "metadata": {},
   "outputs": [],
   "source": [
    "X_train, X_test, y_train, y_test = train_test_split(X, df[\"RESULT\"][X.index], test_size=0.33, random_state=41)"
   ]
  },
  {
   "cell_type": "code",
   "execution_count": 51,
   "metadata": {},
   "outputs": [],
   "source": [
    "from sklearn.ensemble import RandomForestClassifier\n",
    "from sklearn.neural_network import MLPClassifier"
   ]
  },
  {
   "cell_type": "code",
   "execution_count": 60,
   "metadata": {},
   "outputs": [],
   "source": [
    "clf = RandomForestClassifier(n_estimators=100)"
   ]
  },
  {
   "cell_type": "code",
   "execution_count": 61,
   "metadata": {},
   "outputs": [
    {
     "data": {
      "text/plain": [
       "RandomForestClassifier(bootstrap=True, class_weight=None, criterion='gini',\n",
       "                       max_depth=None, max_features='auto', max_leaf_nodes=None,\n",
       "                       min_impurity_decrease=0.0, min_impurity_split=None,\n",
       "                       min_samples_leaf=1, min_samples_split=2,\n",
       "                       min_weight_fraction_leaf=0.0, n_estimators=100,\n",
       "                       n_jobs=None, oob_score=False, random_state=None,\n",
       "                       verbose=0, warm_start=False)"
      ]
     },
     "execution_count": 61,
     "metadata": {},
     "output_type": "execute_result"
    }
   ],
   "source": [
    "clf.fit(X_train, df[\"RESULT\"][X_train.index])"
   ]
  },
  {
   "cell_type": "code",
   "execution_count": 62,
   "metadata": {},
   "outputs": [],
   "source": [
    "y_pred = clf.predict(X_test)"
   ]
  },
  {
   "cell_type": "code",
   "execution_count": 63,
   "metadata": {},
   "outputs": [],
   "source": [
    "from sklearn.metrics import classification_report"
   ]
  },
  {
   "cell_type": "code",
   "execution_count": 64,
   "metadata": {},
   "outputs": [
    {
     "name": "stdout",
     "output_type": "stream",
     "text": [
      "              precision    recall  f1-score   support\n",
      "\n",
      "           A       0.63      0.66      0.64       170\n",
      "           B       0.64      0.60      0.62       167\n",
      "\n",
      "    accuracy                           0.63       337\n",
      "   macro avg       0.63      0.63      0.63       337\n",
      "weighted avg       0.63      0.63      0.63       337\n",
      "\n"
     ]
    }
   ],
   "source": [
    "print(classification_report(y_test,y_pred))"
   ]
  },
  {
   "cell_type": "code",
   "execution_count": 65,
   "metadata": {},
   "outputs": [
    {
     "data": {
      "text/plain": [
       "array([0.01605072, 0.0450037 , 0.03741955, 0.04172357, 0.03741059,\n",
       "       0.08858345, 0.03336695, 0.05786078, 0.04765294, 0.05534502,\n",
       "       0.04114922, 0.07778953, 0.04224594, 0.06845746, 0.05733756,\n",
       "       0.06191171, 0.05780826, 0.07983494, 0.05304812])"
      ]
     },
     "execution_count": 65,
     "metadata": {},
     "output_type": "execute_result"
    }
   ],
   "source": [
    "clf.feature_importances_"
   ]
  },
  {
   "cell_type": "code",
   "execution_count": 69,
   "metadata": {},
   "outputs": [
    {
     "data": {
      "text/plain": [
       "<matplotlib.axes._subplots.AxesSubplot at 0x7f9a52025128>"
      ]
     },
     "execution_count": 69,
     "metadata": {},
     "output_type": "execute_result"
    },
    {
     "data": {
      "image/png": "[encoded data removed]",
      "text/plain": [
       "<Figure size 864x432 with 1 Axes>"
      ]
     },
     "metadata": {
      "needs_background": "light"
     },
     "output_type": "display_data"
    }
   ],
   "source": [
    "plt.figure(figsize=(12,6))\n",
    "sns.barplot(features, clf.feature_importances_)"
   ]
  },
  {
   "cell_type": "code",
   "execution_count": 74,
   "metadata": {},
   "outputs": [
    {
     "data": {
      "text/plain": [
       "<matplotlib.axes._subplots.AxesSubplot at 0x7f9a4b650c88>"
      ]
     },
     "execution_count": 74,
     "metadata": {},
     "output_type": "execute_result"
    },
    {
     "data": {
      "image/png": "[encoded data removed]",
      "text/plain": [
       "<Figure size 432x288 with 1 Axes>"
      ]
     },
     "metadata": {
      "needs_background": "light"
     },
     "output_type": "display_data"
    }
   ],
   "source": [
    "sns.scatterplot(X[\"5B\"], X[\"LDR\"], hue=df[\"RESULT\"])"
   ]
  },
  {
   "cell_type": "code",
   "execution_count": null,
   "metadata": {},
   "outputs": [],
   "source": []
  }
 ],
 "metadata": {
  "kernelspec": {
   "display_name": "Python 3",
   "language": "python",
   "name": "python3"
  },
  "language_info": {
   "codemirror_mode": {
    "name": "ipython",
    "version": 3
   },
   "file_extension": ".py",
   "mimetype": "text/x-python",
   "name": "python",
   "nbconvert_exporter": "python",
   "pygments_lexer": "ipython3",
   "version": "3.6.7"
  }
 },
 "nbformat": 4,
 "nbformat_minor": 2
}
