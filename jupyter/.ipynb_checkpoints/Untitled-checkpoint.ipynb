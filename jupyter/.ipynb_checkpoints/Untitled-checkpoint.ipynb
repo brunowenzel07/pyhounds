{
 "cells": [
  {
   "cell_type": "code",
   "execution_count": 1,
   "metadata": {},
   "outputs": [],
   "source": [
    "import pandas as pd \n",
    "import numpy as np \n",
    "import seaborn as sns"
   ]
  },
  {
   "cell_type": "code",
   "execution_count": 2,
   "metadata": {},
   "outputs": [],
   "source": [
    "from sklearn.model_selection import train_test_split"
   ]
  },
  {
   "cell_type": "code",
   "execution_count": 3,
   "metadata": {},
   "outputs": [],
   "source": [
    "# names = [TRACK, DATE, GRADE, DISTANCE, \n",
    "# A_5D, A_5T, A_5G, A_5PL, A_5PG, A_5B, \n",
    "# A_10D, A_10T, A_10G, A_10PL, A_10PG, A_10B, \n",
    "# A_15D, A_15T, A_15G, A_15PL, A_15PG, A_15B, \n",
    "# A_LDR, A_PLACE, A_TRAP, \n",
    "# B_5D, B_5T, B_5G, B_5PL, B_5PG, B_5B, \n",
    "# B_10D, B_10T, B_10G, B_10PL, B_10PG, B_10B, \n",
    "# B_15D, B_15T, B_15G, B_15PL, B_15PG, B_15B, \n",
    "# B_LDR, B_PLBCE, B_TRBP]"
   ]
  },
  {
   "cell_type": "code",
   "execution_count": 51,
   "metadata": {},
   "outputs": [],
   "source": [
    "features = [\n",
    "\"5D\",   \"5T\",  \"5G\",  \"5PL\",  \"5PG\",  \"5B\", \n",
    "\"10D\", \"10T\", \"10G\", \"10PL\", \"10PG\", \"10B\", \n",
    "\"15D\", \"15T\", \"15G\", \"15PL\", \"15PG\", \"15B\", \"LDR\"\n",
    "]"
   ]
  },
  {
   "cell_type": "code",
   "execution_count": 52,
   "metadata": {},
   "outputs": [],
   "source": [
    "df = pd.read_csv(\"../data/dataset.csv\", index_col=False)\n",
    "df.dropna(inplace=True)"
   ]
  },
  {
   "cell_type": "code",
   "execution_count": 53,
   "metadata": {},
   "outputs": [],
   "source": [
    "def normalize(s):\n",
    "    s = np.array(s).astype(np.float)\n",
    "    if s[0] == 0 or s[0] == s[1]:\n",
    "        return 0.0\n",
    "    else:\n",
    "        return s[0] / (s[0] + s[1])    \n",
    "def labeling(s):\n",
    "    if int(s[0]) < int(s[1]):\n",
    "        return \"A\"\n",
    "    else:\n",
    "        return \"B\""
   ]
  },
  {
   "cell_type": "code",
   "execution_count": 54,
   "metadata": {},
   "outputs": [],
   "source": [
    "df[\"RESULT\"] = df[[\"A_PLACE\", \"B_PLACE\"]].apply(labeling, axis=1)"
   ]
  },
  {
   "cell_type": "code",
   "execution_count": 55,
   "metadata": {},
   "outputs": [],
   "source": [
    "#df = df[(df[\"DISTANCE\"] == 450) & (df[\"TRACK\"] == \"Sunderland\") & (df[\"GRADE\"] == \"A3\")]\n",
    "df1 = df[(df[\"DISTANCE\"] == 450) & (df[\"TRACK\"] == \"Doncaster\") & (df[\"GRADE\"] == \"B2\")]\n",
    "X = pd.DataFrame(columns=features)"
   ]
  },
  {
   "cell_type": "code",
   "execution_count": 56,
   "metadata": {},
   "outputs": [],
   "source": [
    "for x_col in features:\n",
    "    X[x_col] = df1[[\"A_\"+x_col, \"B_\"+x_col]].apply(normalize, axis=1)"
   ]
  },
  {
   "cell_type": "code",
   "execution_count": 57,
   "metadata": {},
   "outputs": [
    {
     "data": {
      "text/html": [
       "<div>\n",
       "<style scoped>\n",
       "    .dataframe tbody tr th:only-of-type {\n",
       "        vertical-align: middle;\n",
       "    }\n",
       "\n",
       "    .dataframe tbody tr th {\n",
       "        vertical-align: top;\n",
       "    }\n",
       "\n",
       "    .dataframe thead th {\n",
       "        text-align: right;\n",
       "    }\n",
       "</style>\n",
       "<table border=\"1\" class=\"dataframe\">\n",
       "  <thead>\n",
       "    <tr style=\"text-align: right;\">\n",
       "      <th></th>\n",
       "      <th>5D</th>\n",
       "      <th>5T</th>\n",
       "      <th>5G</th>\n",
       "      <th>5PL</th>\n",
       "      <th>5PG</th>\n",
       "      <th>5B</th>\n",
       "      <th>10D</th>\n",
       "      <th>10T</th>\n",
       "      <th>10G</th>\n",
       "      <th>10PL</th>\n",
       "      <th>10PG</th>\n",
       "      <th>10B</th>\n",
       "      <th>15D</th>\n",
       "      <th>15T</th>\n",
       "      <th>15G</th>\n",
       "      <th>15PL</th>\n",
       "      <th>15PG</th>\n",
       "      <th>15B</th>\n",
       "      <th>LDR</th>\n",
       "    </tr>\n",
       "  </thead>\n",
       "  <tbody>\n",
       "    <tr>\n",
       "      <th>13106</th>\n",
       "      <td>0.375000</td>\n",
       "      <td>0.285714</td>\n",
       "      <td>0.0</td>\n",
       "      <td>0.571429</td>\n",
       "      <td>0.333333</td>\n",
       "      <td>0.384236</td>\n",
       "      <td>0.230769</td>\n",
       "      <td>0.250000</td>\n",
       "      <td>0.0</td>\n",
       "      <td>0.533333</td>\n",
       "      <td>0.400000</td>\n",
       "      <td>0.531828</td>\n",
       "      <td>0.166667</td>\n",
       "      <td>0.354839</td>\n",
       "      <td>0.0</td>\n",
       "      <td>0.564935</td>\n",
       "      <td>0.282609</td>\n",
       "      <td>0.482309</td>\n",
       "      <td>0.533333</td>\n",
       "    </tr>\n",
       "    <tr>\n",
       "      <th>13107</th>\n",
       "      <td>0.375000</td>\n",
       "      <td>0.666667</td>\n",
       "      <td>0.0</td>\n",
       "      <td>0.444444</td>\n",
       "      <td>1.000000</td>\n",
       "      <td>0.353741</td>\n",
       "      <td>0.230769</td>\n",
       "      <td>0.750000</td>\n",
       "      <td>0.0</td>\n",
       "      <td>0.470588</td>\n",
       "      <td>0.666667</td>\n",
       "      <td>0.445783</td>\n",
       "      <td>0.166667</td>\n",
       "      <td>0.825000</td>\n",
       "      <td>0.0</td>\n",
       "      <td>0.520958</td>\n",
       "      <td>0.393939</td>\n",
       "      <td>0.445017</td>\n",
       "      <td>0.533333</td>\n",
       "    </tr>\n",
       "    <tr>\n",
       "      <th>13108</th>\n",
       "      <td>0.375000</td>\n",
       "      <td>0.285714</td>\n",
       "      <td>0.0</td>\n",
       "      <td>0.571429</td>\n",
       "      <td>0.333333</td>\n",
       "      <td>0.342105</td>\n",
       "      <td>0.230769</td>\n",
       "      <td>0.230769</td>\n",
       "      <td>0.0</td>\n",
       "      <td>0.571429</td>\n",
       "      <td>0.333333</td>\n",
       "      <td>0.423895</td>\n",
       "      <td>0.166667</td>\n",
       "      <td>0.248120</td>\n",
       "      <td>0.0</td>\n",
       "      <td>0.564935</td>\n",
       "      <td>0.282609</td>\n",
       "      <td>0.426689</td>\n",
       "      <td>0.533333</td>\n",
       "    </tr>\n",
       "    <tr>\n",
       "      <th>13109</th>\n",
       "      <td>0.375000</td>\n",
       "      <td>0.285714</td>\n",
       "      <td>0.0</td>\n",
       "      <td>0.666667</td>\n",
       "      <td>0.250000</td>\n",
       "      <td>0.308300</td>\n",
       "      <td>0.250000</td>\n",
       "      <td>0.250000</td>\n",
       "      <td>0.0</td>\n",
       "      <td>0.571429</td>\n",
       "      <td>0.333333</td>\n",
       "      <td>0.438240</td>\n",
       "      <td>0.200000</td>\n",
       "      <td>0.311321</td>\n",
       "      <td>0.0</td>\n",
       "      <td>0.621429</td>\n",
       "      <td>0.216667</td>\n",
       "      <td>0.445783</td>\n",
       "      <td>0.533333</td>\n",
       "    </tr>\n",
       "    <tr>\n",
       "      <th>13110</th>\n",
       "      <td>0.428571</td>\n",
       "      <td>0.400000</td>\n",
       "      <td>0.0</td>\n",
       "      <td>0.000000</td>\n",
       "      <td>0.000000</td>\n",
       "      <td>0.478528</td>\n",
       "      <td>0.250000</td>\n",
       "      <td>0.333333</td>\n",
       "      <td>0.0</td>\n",
       "      <td>0.571429</td>\n",
       "      <td>0.333333</td>\n",
       "      <td>0.503891</td>\n",
       "      <td>0.186916</td>\n",
       "      <td>0.354839</td>\n",
       "      <td>0.0</td>\n",
       "      <td>0.543750</td>\n",
       "      <td>0.325000</td>\n",
       "      <td>0.537344</td>\n",
       "      <td>0.222222</td>\n",
       "    </tr>\n",
       "  </tbody>\n",
       "</table>\n",
       "</div>"
      ],
      "text/plain": [
       "             5D        5T   5G       5PL       5PG        5B       10D  \\\n",
       "13106  0.375000  0.285714  0.0  0.571429  0.333333  0.384236  0.230769   \n",
       "13107  0.375000  0.666667  0.0  0.444444  1.000000  0.353741  0.230769   \n",
       "13108  0.375000  0.285714  0.0  0.571429  0.333333  0.342105  0.230769   \n",
       "13109  0.375000  0.285714  0.0  0.666667  0.250000  0.308300  0.250000   \n",
       "13110  0.428571  0.400000  0.0  0.000000  0.000000  0.478528  0.250000   \n",
       "\n",
       "            10T  10G      10PL      10PG       10B       15D       15T  15G  \\\n",
       "13106  0.250000  0.0  0.533333  0.400000  0.531828  0.166667  0.354839  0.0   \n",
       "13107  0.750000  0.0  0.470588  0.666667  0.445783  0.166667  0.825000  0.0   \n",
       "13108  0.230769  0.0  0.571429  0.333333  0.423895  0.166667  0.248120  0.0   \n",
       "13109  0.250000  0.0  0.571429  0.333333  0.438240  0.200000  0.311321  0.0   \n",
       "13110  0.333333  0.0  0.571429  0.333333  0.503891  0.186916  0.354839  0.0   \n",
       "\n",
       "           15PL      15PG       15B       LDR  \n",
       "13106  0.564935  0.282609  0.482309  0.533333  \n",
       "13107  0.520958  0.393939  0.445017  0.533333  \n",
       "13108  0.564935  0.282609  0.426689  0.533333  \n",
       "13109  0.621429  0.216667  0.445783  0.533333  \n",
       "13110  0.543750  0.325000  0.537344  0.222222  "
      ]
     },
     "execution_count": 57,
     "metadata": {},
     "output_type": "execute_result"
    }
   ],
   "source": [
    "X.head()"
   ]
  },
  {
   "cell_type": "code",
   "execution_count": 58,
   "metadata": {},
   "outputs": [
    {
     "data": {
      "text/plain": [
       "<seaborn.matrix.ClusterGrid at 0x7f33578e7e80>"
      ]
     },
     "execution_count": 58,
     "metadata": {},
     "output_type": "execute_result"
    },
    {
     "data": {
      "image/png": "[encoded data removed]",
      "text/plain": [
       "<Figure size 720x720 with 4 Axes>"
      ]
     },
     "metadata": {
      "needs_background": "light"
     },
     "output_type": "display_data"
    }
   ],
   "source": [
    "sns.clustermap(X.corr())"
   ]
  },
  {
   "cell_type": "code",
   "execution_count": 21,
   "metadata": {},
   "outputs": [],
   "source": [
    "X_train, X_test, y_train, y_test = train_test_split(X, df[\"RESULT\"][X.index], test_size=0.33, random_state=42)"
   ]
  },
  {
   "cell_type": "code",
   "execution_count": 59,
   "metadata": {},
   "outputs": [],
   "source": [
    "from sklearn.ensemble import RandomForestClassifier"
   ]
  },
  {
   "cell_type": "code",
   "execution_count": 60,
   "metadata": {},
   "outputs": [],
   "source": [
    "clf = RandomForestClassifier(n_estimators=100)"
   ]
  },
  {
   "cell_type": "code",
   "execution_count": 61,
   "metadata": {},
   "outputs": [
    {
     "data": {
      "text/plain": [
       "RandomForestClassifier(bootstrap=True, class_weight=None, criterion='gini',\n",
       "                       max_depth=None, max_features='auto', max_leaf_nodes=None,\n",
       "                       min_impurity_decrease=0.0, min_impurity_split=None,\n",
       "                       min_samples_leaf=1, min_samples_split=2,\n",
       "                       min_weight_fraction_leaf=0.0, n_estimators=100,\n",
       "                       n_jobs=None, oob_score=False, random_state=None,\n",
       "                       verbose=0, warm_start=False)"
      ]
     },
     "execution_count": 61,
     "metadata": {},
     "output_type": "execute_result"
    }
   ],
   "source": [
    "clf.fit(X, df[\"RESULT\"][X.index])"
   ]
  },
  {
   "cell_type": "code",
   "execution_count": 62,
   "metadata": {},
   "outputs": [],
   "source": [
    "stats = [\n",
    "    [1.,0.4,0.8,0.6,0.4,3.4,  0.9 ,  0.5 ,  0.8 , 0.6 ,  0.4 ,  3.38,  0.8 ,  0.6 ,  0.73,  0.53,  0.47,  3.18,\n",
    "       10.  ,  1.  ], [0.4 , 0.4 , 0.2 , 1.  , 0.  , 2.4 , 0.3 , 0.5 , 0.1 , 0.7 , 0.3 ,\n",
    "       3.42, 0.47, 0.4 , 0.07, 0.67, 0.33, 3.23, 7.  , 2.  ], [ 0.6 ,  0.2 ,  0.  ,  0.8 ,  0.2 ,  2.  ,  0.3 ,  0.2 ,  0.  ,\n",
    "        0.9 ,  0.1 ,  2.  ,  0.2 ,  0.27,  0.  ,  0.8 ,  0.07,  2.14,\n",
    "       12.  ,  3.  ], [1.  , 0.2 , 1.  , 1.  , 0.  , 2.65, 1.  , 0.3 , 0.6 , 1.  , 0.  ,\n",
    "       2.78, 1.  , 0.33, 0.4 , 0.87, 0.13, 3.17, 7.  , 4.  ], [ 1.  ,  1.  ,  0.4 ,  0.8 ,  0.2 ,  2.95,  1.  ,  0.6 ,  0.2 ,\n",
    "        0.9 ,  0.1 ,  2.42,  1.  ,  0.53,  0.13,  0.73,  0.27,  2.77,\n",
    "       17.  ,  5.  ], [1.  , 0.6 , 1.  , 0.6 , 0.4 , 4.55, 0.8 , 0.7 , 0.5 , 0.7 , 0.3 ,\n",
    "       3.72, 0.6 , 0.6 , 0.33, 0.8 , 0.2 , 3.12, 7.  , 6.  ]]"
   ]
  },
  {
   "cell_type": "code",
   "execution_count": 130,
   "metadata": {},
   "outputs": [
    {
     "name": "stderr",
     "output_type": "stream",
     "text": [
      "/usr/local/lib/python3.6/dist-packages/ipykernel_launcher.py:8: RuntimeWarning: invalid value encountered in true_divide\n",
      "  \n",
      "/usr/local/lib/python3.6/dist-packages/ipykernel_launcher.py:8: RuntimeWarning: invalid value encountered in true_divide\n",
      "  \n"
     ]
    }
   ],
   "source": [
    "winners = []\n",
    "for i, s in enumerate(stats):\n",
    "    probs = np.array([])\n",
    "    for j, t in enumerate(stats):\n",
    "        stats_a, stats_b = np.array(s[:-1]), np.array(t[:-1])\n",
    "        trap_a, trap_b  = s[-1], t[-1]\n",
    "        if trap_a != trap_b:            \n",
    "            X_pred = np.nan_to_num(stats_a/(stats_a + stats_b))\n",
    "            prob_a, prob_b = clf.predict_proba([X_pred])[0]\n",
    "            probs = np.append(probs, prob_a)\n",
    "    winners.append([trap_a, np.mean(probs)])"
   ]
  },
  {
   "cell_type": "code",
   "execution_count": 131,
   "metadata": {},
   "outputs": [
    {
     "data": {
      "text/plain": [
       "[[1.0, 0.25600000000000006],\n",
       " [2.0, 0.506],\n",
       " [3.0, 0.6299999999999998],\n",
       " [4.0, 0.6579999999999998],\n",
       " [5.0, 0.4059999999999998],\n",
       " [6.0, 0.49000000000000027]]"
      ]
     },
     "execution_count": 131,
     "metadata": {},
     "output_type": "execute_result"
    }
   ],
   "source": [
    "winners"
   ]
  },
  {
   "cell_type": "code",
   "execution_count": null,
   "metadata": {},
   "outputs": [],
   "source": []
  }
 ],
 "metadata": {
  "kernelspec": {
   "display_name": "Python 3",
   "language": "python",
   "name": "python3"
  },
  "language_info": {
   "codemirror_mode": {
    "name": "ipython",
    "version": 3
   },
   "file_extension": ".py",
   "mimetype": "text/x-python",
   "name": "python",
   "nbconvert_exporter": "python",
   "pygments_lexer": "ipython3",
   "version": "3.6.7"
  }
 },
 "nbformat": 4,
 "nbformat_minor": 2
}
