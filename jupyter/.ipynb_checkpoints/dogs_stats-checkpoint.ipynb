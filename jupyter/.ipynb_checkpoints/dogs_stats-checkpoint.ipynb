{
 "cells": [
  {
   "cell_type": "code",
   "execution_count": 1,
   "metadata": {},
   "outputs": [],
   "source": [
    "from bs4 import BeautifulSoup\n",
    "import pandas as pd \n",
    "import numpy as np "
   ]
  },
  {
   "cell_type": "code",
   "execution_count": 2,
   "metadata": {},
   "outputs": [],
   "source": [
    "import re"
   ]
  },
  {
   "cell_type": "code",
   "execution_count": 42,
   "metadata": {},
   "outputs": [
    {
     "data": {
      "text/plain": [
       "datetime.datetime(2019, 5, 18, 12, 55, 8, 417447)"
      ]
     },
     "execution_count": 42,
     "metadata": {},
     "output_type": "execute_result"
    }
   ],
   "source": [
    "datetime.today()"
   ]
  },
  {
   "cell_type": "code",
   "execution_count": 3,
   "metadata": {},
   "outputs": [],
   "source": [
    "from datetime import datetime"
   ]
  },
  {
   "cell_type": "code",
   "execution_count": 4,
   "metadata": {},
   "outputs": [],
   "source": [
    "with open (\"track_future.html\", \"r\") as f_:\n",
    "    result_page = BeautifulSoup(f_, \"html.parser\")"
   ]
  },
  {
   "cell_type": "code",
   "execution_count": 5,
   "metadata": {},
   "outputs": [],
   "source": [
    "blocks = result_page.find_all(\"div\", class_=\"runnerBlock\")"
   ]
  },
  {
   "cell_type": "code",
   "execution_count": 19,
   "metadata": {},
   "outputs": [],
   "source": [
    "dogs = list()\n",
    "for block in blocks:\n",
    "    runner_block = {\n",
    "        \"link\"    : block.find(\"a\").attrs[\"href\"],\n",
    "        \"trap\"    : int(block.find(\"i\").attrs[\"class\"][1].replace(\"trap\", \"\")),\n",
    "        \"dog\"     : block.find(\"strong\").text[1:],\n",
    "        \"comment\" : block.find(\"p\", class_=\"comment\")\n",
    "    }\n",
    "    dogs.append(runner_block)    "
   ]
  },
  {
   "cell_type": "code",
   "execution_count": 34,
   "metadata": {},
   "outputs": [],
   "source": [
    "link, trap, dog, comment = [k for k in runner_block.values()]"
   ]
  },
  {
   "cell_type": "code",
   "execution_count": 35,
   "metadata": {},
   "outputs": [
    {
     "data": {
      "text/plain": [
       "'https://greyhoundbet.racingpost.com/#dog/race_id=1696252&r_date=2019-05-18&dog_id=517558'"
      ]
     },
     "execution_count": 35,
     "metadata": {},
     "output_type": "execute_result"
    }
   ],
   "source": [
    "link"
   ]
  },
  {
   "cell_type": "code",
   "execution_count": 41,
   "metadata": {},
   "outputs": [
    {
     "data": {
      "text/plain": [
       "['https://greyhoundbet.racingpost.com/#dog/race_id=1696252&r_date=2019-05-18&dog_id=517558',\n",
       " 6,\n",
       " 'Catunda Tom (W)',\n",
       " <p class=\"comment\">Production doesn't tend to increase in this grade</p>]"
      ]
     },
     "execution_count": 41,
     "metadata": {},
     "output_type": "execute_result"
    }
   ],
   "source": [
    "tuple(runner_block.values())"
   ]
  },
  {
   "cell_type": "code",
   "execution_count": 53,
   "metadata": {},
   "outputs": [],
   "source": [
    "stats = [[1.  , 0.6 , 1.  , 0.6 , 0.4 , 4.05, 0.9 , 0.6 , 0.8 , 0.6 , 0.4 ,\n",
    "       3.7 , 0.87, 0.6 , 0.8 , 0.6 , 0.4 , 3.22, 0.  , 1.  ], [0.6 , 0.4 , 0.4 , 1.  , 0.  , 2.3 , 0.3 , 0.5 , 0.2 , 0.8 , 0.2 ,\n",
    "       3.1 , 0.53, 0.47, 0.13, 0.73, 0.27, 3.  , 0.  , 2.  ], [ 0.6 ,  0.2 ,  0.  ,  0.8 ,  0.2 ,  2.  ,  0.3 ,  0.2 ,  0.  ,\n",
    "        0.9 ,  0.1 ,  2.  ,  0.2 ,  0.27,  0.  ,  0.8 ,  0.07,  2.14,\n",
    "       12.  ,  3.  ], [1.  , 0.4 , 1.  , 0.8 , 0.2 , 3.15, 1.  , 0.3 , 0.7 , 0.9 , 0.1 ,\n",
    "       3.  , 1.  , 0.4 , 0.47, 0.87, 0.13, 3.13, 0.  , 4.  ], [1.  , 1.  , 0.6 , 0.6 , 0.4 , 3.4 , 1.  , 0.6 , 0.3 , 0.8 , 0.2 ,\n",
    "       2.78, 1.  , 0.6 , 0.2 , 0.73, 0.27, 2.75, 0.  , 5.  ], [1.  , 0.6 , 1.  , 0.6 , 0.4 , 4.55, 0.8 , 0.7 , 0.5 , 0.7 , 0.3 ,\n",
    "       3.72, 0.6 , 0.6 , 0.33, 0.8 , 0.2 , 3.12, 7.  , 6.  ]]"
   ]
  },
  {
   "cell_type": "code",
   "execution_count": null,
   "metadata": {},
   "outputs": [],
   "source": [
    "def normalize(a, b):\n",
    "    "
   ]
  },
  {
   "cell_type": "code",
   "execution_count": 63,
   "metadata": {},
   "outputs": [
    {
     "name": "stderr",
     "output_type": "stream",
     "text": [
      "/usr/local/lib/python3.6/dist-packages/ipykernel_launcher.py:4: RuntimeWarning: invalid value encountered in true_divide\n",
      "  after removing the cwd from sys.path.\n"
     ]
    }
   ],
   "source": [
    "for i, s in enumerate(stats):\n",
    "    for j, t in enumerate(stats):\n",
    "        stats_a, stats_b = np.array(s[:-1]), np.array(t[:-1])\n",
    "        X = np.nan_to_num(stats_a/(stats_a + stats_b))\n",
    "    break"
   ]
  },
  {
   "cell_type": "code",
   "execution_count": null,
   "metadata": {},
   "outputs": [],
   "source": []
  }
 ],
 "metadata": {
  "kernelspec": {
   "display_name": "Python 3",
   "language": "python",
   "name": "python3"
  },
  "language_info": {
   "codemirror_mode": {
    "name": "ipython",
    "version": 3
   },
   "file_extension": ".py",
   "mimetype": "text/x-python",
   "name": "python",
   "nbconvert_exporter": "python",
   "pygments_lexer": "ipython3",
   "version": "3.6.7"
  }
 },
 "nbformat": 4,
 "nbformat_minor": 2
}
