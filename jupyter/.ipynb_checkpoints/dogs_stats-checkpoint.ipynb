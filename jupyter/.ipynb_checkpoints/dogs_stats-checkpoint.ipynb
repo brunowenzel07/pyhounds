{
 "cells": [
  {
   "cell_type": "code",
   "execution_count": 1,
   "metadata": {},
   "outputs": [],
   "source": [
    "from bs4 import BeautifulSoup\n",
    "import pandas as pd \n",
    "import numpy as np "
   ]
  },
  {
   "cell_type": "code",
   "execution_count": 2,
   "metadata": {},
   "outputs": [],
   "source": [
    "import re"
   ]
  },
  {
   "cell_type": "code",
   "execution_count": 3,
   "metadata": {},
   "outputs": [],
   "source": [
    "from datetime import datetime"
   ]
  },
  {
   "cell_type": "code",
   "execution_count": 45,
   "metadata": {},
   "outputs": [],
   "source": [
    "with open (\"track_future.html\", \"r\") as f_:\n",
    "    result_page = BeautifulSoup(f_, \"html.parser\")"
   ]
  },
  {
   "cell_type": "code",
   "execution_count": 56,
   "metadata": {},
   "outputs": [
    {
     "name": "stdout",
     "output_type": "stream",
     "text": [
      "{'link': 'https://greyhoundbet.racingpost.com/#dog/race_id=1697052&r_date=2019-05-22&dog_id=517047', 'trap': 1, 'name': 'Geordie Zero ', 'date': datetime.datetime(2019, 5, 22, 20, 30, 45, 757357)}\n",
      "{'link': 'https://greyhoundbet.racingpost.com/#dog/race_id=1697052&r_date=2019-05-22&dog_id=523712', 'trap': 2, 'name': 'High St Brute ', 'date': datetime.datetime(2019, 5, 22, 20, 30, 45, 761559)}\n",
      "{'link': 'https://greyhoundbet.racingpost.com/#dog/race_id=1697052&r_date=2019-05-22&dog_id=515881', 'trap': 3, 'name': 'Moyar Charm ', 'date': datetime.datetime(2019, 5, 22, 20, 30, 45, 764572)}\n",
      "{'link': 'https://greyhoundbet.racingpost.com/#dog/race_id=1697052&r_date=2019-05-22&dog_id=498413', 'trap': 4, 'name': 'Tullymurry Idaho ', 'date': datetime.datetime(2019, 5, 22, 20, 30, 45, 765156)}\n",
      "{'link': 'https://greyhoundbet.racingpost.com/#dog/race_id=1697052&r_date=2019-05-22&dog_id=529639', 'trap': 5, 'name': 'Harton Jet ', 'date': datetime.datetime(2019, 5, 22, 20, 30, 45, 765697)}\n",
      "{'link': 'https://greyhoundbet.racingpost.com/#dog/race_id=1697052&r_date=2019-05-22&dog_id=519745', 'trap': 6, 'name': 'Canny Raquel (W)', 'date': datetime.datetime(2019, 5, 22, 20, 30, 45, 766235)}\n"
     ]
    }
   ],
   "source": [
    "for block in result_page.find(\"div\", class_=\"formTabContainer\").find_all(\"div\", class_=\"runnerBlock\"):\n",
    "    runner_block = {\n",
    "        \"link\"      : block.find(\"a\").attrs[\"href\"],\n",
    "        \"trap\"      : int(block.find(\"i\").attrs[\"class\"][1].replace(\"trap\", \"\")),\n",
    "        \"name\"      : block.find(\"strong\").text[1:],\n",
    "        \"date\"      : datetime.now(),\n",
    "    }\n",
    "    #        \"comment\"   : block.find(\"p\", class_=\"comment\").text,\n",
    "    # \"form\"      : block.find(\"table\").find_all(\"td\")[0].text.replace(\"Form: \", \"\"),"
   ]
  },
  {
   "cell_type": "code",
   "execution_count": null,
   "metadata": {},
   "outputs": [],
   "source": []
  }
 ],
 "metadata": {
  "kernelspec": {
   "display_name": "Python 3",
   "language": "python",
   "name": "python3"
  },
  "language_info": {
   "codemirror_mode": {
    "name": "ipython",
    "version": 3
   },
   "file_extension": ".py",
   "mimetype": "text/x-python",
   "name": "python",
   "nbconvert_exporter": "python",
   "pygments_lexer": "ipython3",
   "version": "3.6.7"
  }
 },
 "nbformat": 4,
 "nbformat_minor": 2
}
