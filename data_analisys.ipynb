{
 "cells": [
  {
   "cell_type": "code",
   "execution_count": 27,
   "metadata": {},
   "outputs": [],
   "source": [
    "import pandas as pd\n",
    "import numpy as np\n",
    "import seaborn as sns \n",
    "import matplotlib.pyplot as plt"
   ]
  },
  {
   "cell_type": "code",
   "execution_count": 41,
   "metadata": {},
   "outputs": [],
   "source": [
    "races = pd.read_csv(\"data/data_train.csv\", names=[\"Age\", \"LastRun\", \"Bends\", \"Remarks\", \"Finishes\", \"SP\", \"Weight\", \"Ratio\", \"Result\"])"
   ]
  },
  {
   "cell_type": "code",
   "execution_count": 42,
   "metadata": {},
   "outputs": [
    {
     "data": {
      "text/html": [
       "<div>\n",
       "<style scoped>\n",
       "    .dataframe tbody tr th:only-of-type {\n",
       "        vertical-align: middle;\n",
       "    }\n",
       "\n",
       "    .dataframe tbody tr th {\n",
       "        vertical-align: top;\n",
       "    }\n",
       "\n",
       "    .dataframe thead th {\n",
       "        text-align: right;\n",
       "    }\n",
       "</style>\n",
       "<table border=\"1\" class=\"dataframe\">\n",
       "  <thead>\n",
       "    <tr style=\"text-align: right;\">\n",
       "      <th></th>\n",
       "      <th>Age</th>\n",
       "      <th>LastRun</th>\n",
       "      <th>Bends</th>\n",
       "      <th>Remarks</th>\n",
       "      <th>Finishes</th>\n",
       "      <th>SP</th>\n",
       "      <th>Weight</th>\n",
       "      <th>Ratio</th>\n",
       "      <th>Result</th>\n",
       "    </tr>\n",
       "  </thead>\n",
       "  <tbody>\n",
       "    <tr>\n",
       "      <th>0</th>\n",
       "      <td>799</td>\n",
       "      <td>11</td>\n",
       "      <td>0.5500</td>\n",
       "      <td>0.3000</td>\n",
       "      <td>0.7500</td>\n",
       "      <td>3.8000</td>\n",
       "      <td>32.5</td>\n",
       "      <td>1.4955</td>\n",
       "      <td>0</td>\n",
       "    </tr>\n",
       "    <tr>\n",
       "      <th>1</th>\n",
       "      <td>1097</td>\n",
       "      <td>5</td>\n",
       "      <td>0.7000</td>\n",
       "      <td>0.3600</td>\n",
       "      <td>1.1200</td>\n",
       "      <td>5.3160</td>\n",
       "      <td>34.3</td>\n",
       "      <td>0.4270</td>\n",
       "      <td>0</td>\n",
       "    </tr>\n",
       "    <tr>\n",
       "      <th>2</th>\n",
       "      <td>770</td>\n",
       "      <td>7</td>\n",
       "      <td>-0.1818</td>\n",
       "      <td>0.4545</td>\n",
       "      <td>0.9545</td>\n",
       "      <td>2.6761</td>\n",
       "      <td>25.3</td>\n",
       "      <td>-0.2377</td>\n",
       "      <td>0</td>\n",
       "    </tr>\n",
       "    <tr>\n",
       "      <th>3</th>\n",
       "      <td>1446</td>\n",
       "      <td>7</td>\n",
       "      <td>1.2424</td>\n",
       "      <td>0.2273</td>\n",
       "      <td>1.4242</td>\n",
       "      <td>4.4924</td>\n",
       "      <td>31.8</td>\n",
       "      <td>-0.0829</td>\n",
       "      <td>1</td>\n",
       "    </tr>\n",
       "    <tr>\n",
       "      <th>4</th>\n",
       "      <td>1159</td>\n",
       "      <td>7</td>\n",
       "      <td>0.8857</td>\n",
       "      <td>0.0857</td>\n",
       "      <td>1.0286</td>\n",
       "      <td>4.7429</td>\n",
       "      <td>37.2</td>\n",
       "      <td>-0.2389</td>\n",
       "      <td>1</td>\n",
       "    </tr>\n",
       "  </tbody>\n",
       "</table>\n",
       "</div>"
      ],
      "text/plain": [
       "    Age  LastRun   Bends  Remarks  Finishes      SP  Weight   Ratio  Result\n",
       "0   799       11  0.5500   0.3000    0.7500  3.8000    32.5  1.4955       0\n",
       "1  1097        5  0.7000   0.3600    1.1200  5.3160    34.3  0.4270       0\n",
       "2   770        7 -0.1818   0.4545    0.9545  2.6761    25.3 -0.2377       0\n",
       "3  1446        7  1.2424   0.2273    1.4242  4.4924    31.8 -0.0829       1\n",
       "4  1159        7  0.8857   0.0857    1.0286  4.7429    37.2 -0.2389       1"
      ]
     },
     "execution_count": 42,
     "metadata": {},
     "output_type": "execute_result"
    }
   ],
   "source": [
    "races.head()"
   ]
  },
  {
   "cell_type": "code",
   "execution_count": 54,
   "metadata": {},
   "outputs": [
    {
     "data": {
      "text/plain": [
       "<seaborn.axisgrid.JointGrid at 0x7f7f35992910>"
      ]
     },
     "execution_count": 54,
     "metadata": {},
     "output_type": "execute_result"
    },
    {
     "data": {
      "text/plain": [
       "<Figure size 1080x1080 with 0 Axes>"
      ]
     },
     "metadata": {},
     "output_type": "display_data"
    },
    {
     "data": {
      "image/png": "[encoded data removed]",
      "text/plain": [
       "<Figure size 432x432 with 3 Axes>"
      ]
     },
     "metadata": {
      "needs_background": "light"
     },
     "output_type": "display_data"
    }
   ],
   "source": [
    "plt.figure(figsize=(15,15))\n",
    "sns.jointplot(x=\"Age\",y=\"SP\", data=races, kind=\"hex\")"
   ]
  },
  {
   "cell_type": "code",
   "execution_count": null,
   "metadata": {},
   "outputs": [],
   "source": []
  }
 ],
 "metadata": {
  "kernelspec": {
   "display_name": "Python 2",
   "language": "python",
   "name": "python2"
  },
  "language_info": {
   "codemirror_mode": {
    "name": "ipython",
    "version": 2
   },
   "file_extension": ".py",
   "mimetype": "text/x-python",
   "name": "python",
   "nbconvert_exporter": "python",
   "pygments_lexer": "ipython2",
   "version": "2.7.15"
  }
 },
 "nbformat": 4,
 "nbformat_minor": 2
}
